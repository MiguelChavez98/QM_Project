{
 "cells": [
  {
   "cell_type": "code",
   "execution_count": 2,
   "metadata": {},
   "outputs": [],
   "source": [
    "import scipy\n",
    "import numpy as np\n",
    "from scipy.spatial.distance import cdist\n",
    "import matplotlib.pyplot as plt\n",
    "import scipy.optimize as spo\n",
    "import scipy.constants as const\n",
    "from scipy.spatial.transform import Rotation as R"
   ]
  },
  {
   "cell_type": "markdown",
   "metadata": {},
   "source": [
    "# Constants"
   ]
  },
  {
   "cell_type": "code",
   "execution_count": null,
   "metadata": {},
   "outputs": [],
   "source": [
    "# Valor de bohr en metros\n",
    "bohr_factor = const.value('Bohr radius')\n",
    "# Factor de conversión de angstrom a bohr\n",
    "angstrom_to_bohr = const.angstrom / bohr_factor # 1.8897261246257702\n",
    "hartree_to_kcal = 627.509\n",
    "kJ_to_kcal = 1 / 4.184\n",
    "hartree_to_kJ = 2625.5"
   ]
  },
  {
   "cell_type": "markdown",
   "metadata": {},
   "source": [
    "# Data  PF6 - CHN"
   ]
  },
  {
   "cell_type": "code",
   "execution_count": 6,
   "metadata": {},
   "outputs": [],
   "source": [
    "energies_kcal = np.load(r'C:\\Users\\migue\\OneDrive\\Desktop\\QM_Project\\Parametrization\\total_energies_kcal.npy')\n",
    "distances_angstrom_137x154 = np.load(r'C:\\Users\\migue\\OneDrive\\Desktop\\QM_Project\\Parametrization\\distances_angstrom.npy')\n",
    "charges_chn = np.load(r'C:\\Users\\migue\\OneDrive\\Desktop\\QM_Project\\Parametrization\\charges_chn.npy')\n",
    "charges_pf6 = np.load(r'C:\\Users\\migue\\OneDrive\\Desktop\\QM_Project\\Parametrization\\charges_pf6.npy')\n",
    "\n",
    "## Aqui falta un set de datos de PF6 y CHN que sea con datos de 80 muestras, no recuerdo ni como las saque"
   ]
  },
  {
   "cell_type": "markdown",
   "metadata": {},
   "source": [
    "# DATA PF6 - PF6"
   ]
  },
  {
   "cell_type": "code",
   "execution_count": 6,
   "metadata": {},
   "outputs": [],
   "source": [
    "energies_pf6_pf6_kcal = np.load(r'C:\\Users\\migue\\OneDrive\\Desktop\\QM_Project\\Parametrization\\pf6_pf6_energies.npy')\n",
    "distanceswcharge_pf6_pf6_angstrom = np.load(r'C:\\Users\\migue\\OneDrive\\Desktop\\QM_Project\\Parametrization\\pf6_pf6_distanceswcharge.npy') \n",
    "# distances matrix have for each energy: distance between molecules, index of combination (f with f, f with p, p with p)\n",
    "# and charge multiplication, in that order. "
   ]
  },
  {
   "cell_type": "markdown",
   "metadata": {},
   "source": [
    "# <span style=\"color:Green\"> Dispersion coefficients of pf6 from alston </span>"
   ]
  },
  {
   "cell_type": "code",
   "execution_count": null,
   "metadata": {},
   "outputs": [],
   "source": [
    "# C_6 coeficients - units ht*bohr**6\n",
    "cpp = 30.61343\n",
    "cfp = 18.70394\n",
    "cff = 11.50171"
   ]
  },
  {
   "cell_type": "markdown",
   "metadata": {},
   "source": [
    "# Functions"
   ]
  },
  {
   "cell_type": "markdown",
   "metadata": {},
   "source": [
    "# dispersion coeficient by itself should do a good value because we got it from a realiable source, just need scaling.\n",
    "# electrostatic term by itself should have good values because we got it from good sources. "
   ]
  },
  {
   "cell_type": "markdown",
   "metadata": {},
   "source": [
    "### Step 1: get the scaling factor again, just the scaling factor to maintain the presition of the dispersion part in the molecules. \n",
    "\n",
    "because all of the variables of williams potential and openmm utilize kJ/mol it is a good idea to begin with all this changes, only is not necesary in the electrostatic part because the charges can be transformed in the end without affecting the final results. "
   ]
  },
  {
   "cell_type": "markdown",
   "metadata": {},
   "source": [
    "### Step 2: With fixed dispersion coefficients, we can fit the exponential and multiplicative factors."
   ]
  },
  {
   "cell_type": "markdown",
   "metadata": {},
   "source": []
  },
  {
   "cell_type": "code",
   "execution_count": null,
   "metadata": {},
   "outputs": [],
   "source": [
    "\n",
    "def energy_williams_pf6_pf6(combination_matrix):\n",
    "    combination_matrix = np.array(combination_matrix)\n",
    "    energies = []\n",
    "    for i in range(combination_matrix.shape[0]):\n",
    "        sum = 0\n",
    "        for j in range(combination_matrix.shape[2]):\n",
    "            exp_term = (combination_matrix[i, 2, j])*(np.exp((-combination_matrix[i, 3, j])*(combination_matrix[i, 0, j])))\n",
    "            dis_ind_term = combination_matrix[i, 1, j]/((combination_matrix[i, 0, j])**6)\n",
    "            elst_term = (combination_matrix[i, 4, j])/(combination_matrix[i, 0, j]*angstrom_to_bohr)\n",
    "            sum = sum + (exp_term*kJ_to_kcal) - (dis_ind_term*kJ_to_kcal) + (elst_term*hartree_to_kcal)\n",
    "        energies.append(sum)\n",
    "    return energies"
   ]
  },
  {
   "cell_type": "code",
   "execution_count": null,
   "metadata": {},
   "outputs": [],
   "source": [
    "def energy_williams_pf6_pf6(distances, charges,):"
   ]
  }
 ],
 "metadata": {
  "kernelspec": {
   "display_name": "psi4",
   "language": "python",
   "name": "python3"
  },
  "language_info": {
   "codemirror_mode": {
    "name": "ipython",
    "version": 3
   },
   "file_extension": ".py",
   "mimetype": "text/x-python",
   "name": "python",
   "nbconvert_exporter": "python",
   "pygments_lexer": "ipython3",
   "version": "3.11.7"
  }
 },
 "nbformat": 4,
 "nbformat_minor": 2
}

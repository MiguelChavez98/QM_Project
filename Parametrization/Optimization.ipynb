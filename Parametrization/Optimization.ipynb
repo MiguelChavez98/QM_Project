{
 "cells": [
  {
   "cell_type": "code",
   "execution_count": 1,
   "metadata": {},
   "outputs": [],
   "source": [
    "import scipy\n",
    "import numpy as np\n",
    "from scipy.spatial.distance import cdist\n",
    "import matplotlib.pyplot as plt\n",
    "import scipy.optimize as spo\n",
    "import scipy.constants as const\n",
    "from scipy.spatial.transform import Rotation as R"
   ]
  },
  {
   "cell_type": "markdown",
   "metadata": {},
   "source": [
    "## Constants"
   ]
  },
  {
   "cell_type": "code",
   "execution_count": 2,
   "metadata": {},
   "outputs": [],
   "source": [
    "# Valor de bohr en metros\n",
    "bohr_factor = const.value('Bohr radius')\n",
    "# Factor de conversión de angstrom a bohr\n",
    "angstrom_to_bohr = const.angstrom / bohr_factor\n",
    "hartree_to_kcal = 627.509\n",
    "kJ_to_kcal = 1 / 4.184"
   ]
  },
  {
   "cell_type": "markdown",
   "metadata": {},
   "source": [
    "# optimization"
   ]
  },
  {
   "cell_type": "code",
   "execution_count": 3,
   "metadata": {},
   "outputs": [],
   "source": [
    "from scipy import optimize"
   ]
  },
  {
   "cell_type": "markdown",
   "metadata": {},
   "source": [
    "#### Functions for optimization or calculate differences"
   ]
  },
  {
   "cell_type": "code",
   "execution_count": 4,
   "metadata": {},
   "outputs": [],
   "source": [
    "#estas son las coordenadas de quin para analizar cada posicion comparandolas con las de pf6 y sacando el resultado\n",
    "coordinates_quin_to_pf6_1 = np.load (r\"C:\\Users\\migue\\Downloads\\Pf6_quin_configurations_genetic.npy\")\n",
    "coordinates_quin_to_pf6_2 = np.load (r\"C:\\Users\\migue\\Downloads\\quin_configurations_genetic.npy\")\n",
    "\n",
    "coordinates_quin_to_pf6_total = np.concatenate((coordinates_quin_to_pf6_1, coordinates_quin_to_pf6_2), axis = 0)\n",
    "\n",
    "\n",
    "def xyz_a_matriz_numpy(ruta_archivo_xyz):\n",
    "    # Leer el contenido del archivo\n",
    "    with open(ruta_archivo_xyz, 'r') as archivo:\n",
    "        lineas = archivo.readlines()\n",
    "\n",
    "    # Omitir la primera línea (contiene el número total de átomos) y otras no necesarias\n",
    "    # Asumimos que las coordenadas comienzan desde la tercera línea\n",
    "    lineas_coordenadas = lineas[2:]\n",
    "    \n",
    "    # Preparar una lista para almacenar las coordenadas\n",
    "    coordenadas = []\n",
    "    \n",
    "    for linea in lineas_coordenadas:\n",
    "        if linea.strip():  # Verificar que la línea no esté vacía\n",
    "            partes = linea.split()\n",
    "            if len(partes) == 4:  # Asegurar que la línea tenga el formato esperado (Elemento x y z)\n",
    "                # Convertir las partes numéricas (x, y, z) a flotantes y añadir a la lista\n",
    "                coordenadas.append([float(partes[1]), float(partes[2]), float(partes[3])])\n",
    "\n",
    "    # Convertir la lista de coordenadas a una matriz NumPy\n",
    "    matriz_coordenadas = np.array(coordenadas)\n",
    "\n",
    "    return matriz_coordenadas\n",
    "\n",
    "# estas son las coordenadas de los pf6 para poder sacar las distancias, estas son todas sus configuraciones.\n",
    "coord_pf6_80 = xyz_a_matriz_numpy(r\"C:\\Users\\migue\\Downloads\\PF6_centered_for_geneticAlg.xyz\")\n",
    "coord_pf6_18_1 = xyz_a_matriz_numpy(r\"C:\\Users\\migue\\Downloads\\pf6_centered_180_1_genetic.xyz\")\n",
    "coord_pf6_18_2 = xyz_a_matriz_numpy(r\"C:\\Users\\migue\\Downloads\\pf6_centered_180_2_genetic.xyz\")\n",
    "coord_pf6_18_3 = xyz_a_matriz_numpy(r\"C:\\Users\\migue\\Downloads\\pf6_centered_180_3_genetic.xyz\")\n",
    "\n",
    "\n",
    "def space_distances_generation(base_molecule, configurations):\n",
    "    space_distance_vec = []\n",
    "    for w in range(len(configurations)):  # w is the distances vector\n",
    "        space_distance = cdist(base_molecule, configurations[w], 'euclidean')\n",
    "        space_distance = np.array(space_distance.flatten())\n",
    "        space_distance_vec.append(space_distance)\n",
    "    return np.array(space_distance_vec)\n",
    "\n",
    "energies_80 = np.load(r\"C:\\Users\\migue\\Downloads\\pf6_quin_energies_80.npz\")\n",
    "energies_180_1 = np.load(r\"C:\\Users\\migue\\Downloads\\quin_pf6_180_1_ene.npz\")\n",
    "energies_180_2 = np.load(r\"C:\\Users\\migue\\Downloads\\quin_fp6_180_2_ene.npz\")\n",
    "energies_180_3 = np.load(r\"C:\\Users\\migue\\Downloads\\quin_pf6_180_3_ene.npz\")\n",
    "\n",
    "energies_pf6_80 = energies_80['esapt']\n",
    "energies_pf6_180_1 = energies_180_1['esapt']*hartree_to_kcal\n",
    "energies_pf6_180_2 = energies_180_2['esapt']*hartree_to_kcal\n",
    "energies_pf6_180_3 = energies_180_3['esapt']*hartree_to_kcal\n",
    "\n",
    "total_energies = np.array(np.concatenate((energies_pf6_80,energies_pf6_180_1,energies_pf6_180_2, energies_pf6_180_3), axis = 0))\n",
    "\n",
    "distances_80 = space_distances_generation(coord_pf6_80, coordinates_quin_to_pf6_1)\n",
    "distances_180_1 = space_distances_generation(coord_pf6_18_1, coordinates_quin_to_pf6_2)\n",
    "distances_180_2 = space_distances_generation(coord_pf6_18_2, coordinates_quin_to_pf6_2)\n",
    "distances_180_3 = space_distances_generation(coord_pf6_18_3, coordinates_quin_to_pf6_2)\n",
    "\n",
    "total_distances = np.concatenate((distances_80, distances_180_1, distances_180_2, distances_180_3), axis = 0)\n",
    "\n",
    "\n",
    "####concatenar distancias \n",
    "\n",
    "charges_chn = [0.038097, -0.167411, -0.167412, 0.030591, -0.013700, -0.013700, -0.234656,\n",
    "           0.272792, 0.094346, 0.097032,  0.097032, 0.098344, 0.098344, 0.079640, 0.079641,\n",
    "           0.092649, 0.092649, 0.091285, 0.091285, 0.103953, 0.103953, 0.035246]\n",
    "\n",
    "\n",
    "charges_pf6 = [-0.547209,  -0.547209,  -0.547209,  -0.542063, -0.542063,\n",
    "               -0.552955,  2.272009]\n",
    "\n",
    "\n",
    "# a b c for molecules C(4), H(4), H(1), N(3), F, P\n",
    "p_v = [978.36, 131571, 3.60, 0.00, 764.9, 3.56, 278.37, 12680, 3.56,\n",
    "                 2376.55, 191935, 3.48, 283248.0316091423, 273570.9941372, 4.0775266,\n",
    "                 283248.0316091423, 273570.9941372, 4.0775266]\n",
    "\n",
    "def vector_q1q2(vec_1, vec_2):\n",
    "    v_q1q2 = np.outer(vec_1, vec_2).flatten()\n",
    "    return np.array(v_q1q2)\n",
    "\n",
    "\n",
    "vec_q1q2_pf6_quin = vector_q1q2(charges_pf6, charges_chn)"
   ]
  },
  {
   "cell_type": "code",
   "execution_count": 168,
   "metadata": {},
   "outputs": [],
   "source": [
    "def function_test(solution):\n",
    "    p_v = solution\n",
    "    vec_1a = [p_v[0],p_v[0],p_v[0],p_v[0],p_v[0],p_v[0],p_v[0],p_v[3],p_v[6],p_v[6],p_v[6],p_v[6],p_v[6],p_v[6],p_v[6],p_v[6],p_v[6],p_v[6],p_v[6],p_v[6],p_v[6],p_v[9]]\n",
    "    vec_1b = [p_v[1],p_v[1],p_v[1],p_v[1],p_v[1],p_v[1],p_v[1],p_v[4],p_v[7],p_v[7],p_v[7],p_v[7],p_v[7],p_v[7],p_v[7],p_v[7],p_v[7],p_v[7],p_v[7],p_v[7],p_v[7],p_v[10]]\n",
    "    vec_1c = [p_v[2],p_v[2],p_v[2],p_v[2],p_v[2],p_v[2],p_v[2],p_v[5],p_v[8],p_v[8],p_v[8],p_v[8],p_v[8],p_v[8],p_v[8],p_v[8],p_v[8],p_v[8],p_v[8],p_v[8],p_v[8],p_v[11]]\n",
    "    vec_1a = np.array(vec_1a)\n",
    "    vec_1b = np.array(vec_1b)\n",
    "    vec_1c = np.array(vec_1c)\n",
    "    vec_2a = [p_v[12],p_v[12],p_v[12],p_v[12],p_v[12],p_v[12],p_v[15]]\n",
    "    vec_2b = [p_v[13],p_v[13],p_v[13],p_v[13],p_v[13],p_v[13],p_v[16]]\n",
    "    vec_2c = [p_v[14],p_v[14],p_v[14],p_v[14],p_v[14],p_v[14],p_v[17]]\n",
    "    vec_2a = np.array(vec_2a)\n",
    "    vec_2b = np.array(vec_2b)\n",
    "    vec_2c = np.array(vec_2c)\n",
    "\n",
    "    v_12a = np.array((np.outer(vec_1a, vec_2a).flatten())**(0.5))\n",
    "    v_12b = np.array((np.outer(vec_1b, vec_2b).flatten())**(0.5))\n",
    "    v_12c = np.array(((0.5)*(vec_1c[:, np.newaxis] + vec_2c)).flatten())\n",
    "\n",
    "    vec_d = total_distances ## desde fuera\n",
    "    vec_a, vec_b, vec_c = v_12a, v_12b, v_12c\n",
    "    vec_q1q2 = vec_q1q2_pf6_quin ### desde fuera\n",
    "    \n",
    "   \n",
    "\n",
    "    combination_matrix = []\n",
    "    for vector in vec_d:\n",
    "        combination_matrix.append(np.vstack((vector, vec_a, vec_b, vec_c, vec_q1q2)))\n",
    "\n",
    "    combination_matrix = np.array(combination_matrix)\n",
    "\n",
    "    #### Transformar las energias objetivo (recordatorio mio xd)\n",
    "\n",
    "    energies = []\n",
    "    for i in range(combination_matrix.shape[0]):\n",
    "        sum = 0\n",
    "        for j in range(combination_matrix.shape[2]):\n",
    "            exp_term = (combination_matrix[i, 2, j])*(np.exp((-combination_matrix[i, 3, j])*(combination_matrix[i, 0, j])))\n",
    "            dis_ind_term = combination_matrix[i, 1, j]/((combination_matrix[i, 0, j])**6)\n",
    "            elst_term = (combination_matrix[i, 4, j])/(combination_matrix[i, 0, j]*angstrom_to_bohr)\n",
    "            sum = sum + (exp_term*kJ_to_kcal) - (dis_ind_term*kJ_to_kcal) + (elst_term*hartree_to_kcal)\n",
    "        energies.append(sum)\n",
    "\n",
    "    penalization_vec = penalization_funtion_2(solution)\n",
    "    diferencias = energies - total_energies\n",
    "    diferencias_final = np.hstack((np.array(diferencias), np.array(penalization_vec))) # + (np.array(diferencias) * penalization_funtion(solution))\n",
    "    #diferencias = diferencias.sum()\n",
    "\n",
    "    return  np.sum(diferencias**2)#_final**2) ## np.sum(np.abs(diferencias))"
   ]
  },
  {
   "cell_type": "code",
   "execution_count": 87,
   "metadata": {},
   "outputs": [
    {
     "name": "stdout",
     "output_type": "stream",
     "text": [
      "333.44808691518097\n"
     ]
    }
   ],
   "source": [
    "x = function_test([9.420360000e+02, 1.200000e+04, 3.30000000e+00, 300.00000000e+00,\n",
    "  1.4185747e+03, 3.43000000e+00, 2.76370000e+02, 6.7052353e+03,\n",
    "  3.1777550e+00, 1.70791554e+03, 1.9065018e+05, 3.37316262e+00,\n",
    "  3.210003161e+03, 1.1809078e+05, 4.20752660e+00, 3.30500003161e+03,\n",
    "  1.302297698e+05, 4.1252660e+00])\n",
    "print(x)"
   ]
  },
  {
   "cell_type": "code",
   "execution_count": 244,
   "metadata": {},
   "outputs": [],
   "source": [
    "def penalization_funtion(x):\n",
    "    x = np.array(x)\n",
    "    penalty = [] \n",
    "    original_parameters = [978.36, 131571, 3.60, 0.00, 764.9, 3.56, 278.37, 12680, 3.56,\n",
    "                           2376.55, 191935, 3.48, 1725.2045067499794, 803364.870629, 6.14391455469,\n",
    "                           4591.876112601954, 126176948.8657, 3.250978952232]\n",
    "    threshold = .10  #outside the threshold\n",
    "    for id in range(len(x)):\n",
    "        if original_parameters[id] == 0.00 :\n",
    "            penalty.append(x[id])\n",
    "        else: \n",
    "            percentage =  np.abs((original_parameters[id] - x[id])/(original_parameters[id]))\n",
    "            if percentage > threshold :\n",
    "                penalty.append(((percentage - threshold)*100)**2) \n",
    "            else: \n",
    "                penalty.append(0)\n",
    "    \n",
    "\n",
    "    p_v = penalty\n",
    "    \n",
    "\n",
    "    vec_1a = [p_v[0],p_v[0],p_v[0],p_v[0],p_v[0],p_v[0],p_v[0],p_v[3],p_v[6],p_v[6],p_v[6],p_v[6],p_v[6],p_v[6],p_v[6],p_v[6],p_v[6],p_v[6],p_v[6],p_v[6],p_v[6],p_v[9]]\n",
    "    vec_1b = [p_v[1],p_v[1],p_v[1],p_v[1],p_v[1],p_v[1],p_v[1],p_v[4],p_v[7],p_v[7],p_v[7],p_v[7],p_v[7],p_v[7],p_v[7],p_v[7],p_v[7],p_v[7],p_v[7],p_v[7],p_v[7],p_v[10]]\n",
    "    vec_1c = [p_v[2],p_v[2],p_v[2],p_v[2],p_v[2],p_v[2],p_v[2],p_v[5],p_v[8],p_v[8],p_v[8],p_v[8],p_v[8],p_v[8],p_v[8],p_v[8],p_v[8],p_v[8],p_v[8],p_v[8],p_v[8],p_v[11]]\n",
    "    vec_1a = np.array(vec_1a)\n",
    "    vec_1b = np.array(vec_1b)\n",
    "    vec_1c = np.array(vec_1c)\n",
    "    vec_2a = [p_v[12],p_v[12],p_v[12],p_v[12],p_v[12],p_v[12],p_v[15]]\n",
    "    vec_2b = [p_v[13],p_v[13],p_v[13],p_v[13],p_v[13],p_v[13],p_v[16]]\n",
    "    vec_2c = [p_v[14],p_v[14],p_v[14],p_v[14],p_v[14],p_v[14],p_v[17]]\n",
    "    vec_2a = np.array(vec_2a)\n",
    "    vec_2b = np.array(vec_2b)\n",
    "    vec_2c = np.array(vec_2c)\n",
    "\n",
    "    v_12a = np.array((vec_1a[:, np.newaxis] + vec_2a).flatten())\n",
    "    v_12b = np.array((vec_1b[:, np.newaxis] + vec_2b).flatten())\n",
    "    v_12c = np.array((vec_1c[:, np.newaxis] + vec_2c).flatten())\n",
    "    \n",
    "    v_penalization =  v_12a + v_12b + v_12c \n",
    "\n",
    "    \n",
    "    return v_penalization.sum()/154"
   ]
  },
  {
   "cell_type": "code",
   "execution_count": 245,
   "metadata": {},
   "outputs": [],
   "source": [
    "def penalization_funtion_2(x):\n",
    "    x = np.array(x)\n",
    "    penalty = [] \n",
    "\n",
    "    original_parameters = [978.36, 131571, 3.60, 0.00, 764.9, 3.56, 278.37, 12680, 3.56,\n",
    "                           2376.55, 191935, 3.48, 1725.2045067499794, 275000, 4.1,\n",
    "                           4591.876112601954, 275000.00, 4.1]\n",
    "\n",
    "    threshold = .2  #outside the threshold\n",
    "    for id in range(len(x)):\n",
    "\n",
    "        if original_parameters[id] == 0.00 :\n",
    "            penalty.append(x[id])\n",
    "        else: \n",
    "            percentage =  np.abs((original_parameters[id] - x[id])/(original_parameters[id]))\n",
    "            if percentage > threshold :\n",
    "                penalty.append(percentage*1000) # 10 100 \n",
    "            else: \n",
    "                penalty.append(0)\n",
    "    return penalty\n",
    "    \n"
   ]
  },
  {
   "cell_type": "code",
   "execution_count": 243,
   "metadata": {},
   "outputs": [],
   "source": [
    "h = [978.36, 131571, 3.60, 0.00, 764.9, 3.56, 278.37, 12680, 3.56,\n",
    "                           2376.55, 191935, 3.48, 1725.2045067499794*2, 803364.870629, 6.14391455469,\n",
    "                           4591.876112601954*2, 1261769.8657, 3.250978952232]"
   ]
  },
  {
   "cell_type": "code",
   "execution_count": 155,
   "metadata": {},
   "outputs": [
    {
     "name": "stdout",
     "output_type": "stream",
     "text": [
      "[0, 0, 0, 0.0, 0, 0, 0, 0, 0, 0, 0, 0, 0, 0, 0, 0, 0, 0]\n"
     ]
    }
   ],
   "source": [
    "x = penalization_funtion_2(h)\n",
    "print(x)"
   ]
  },
  {
   "cell_type": "code",
   "execution_count": 6,
   "metadata": {},
   "outputs": [
    {
     "name": "stdout",
     "output_type": "stream",
     "text": [
      "2360999.5607572636\n"
     ]
    }
   ],
   "source": [
    "resultados =  function_test([978.36, 131571, 3.60, 0.00, 764.9, 3.56, 278.37, 12680, 3.56,\n",
    "                 2376.55, 191935, 3.48, 824.667546247, 803364.870629, 6.14391455469,\n",
    "                 2194.9694610908, 126176948.8657, 3.250978952232])\n",
    "\n",
    "print(resultados)"
   ]
  },
  {
   "cell_type": "markdown",
   "metadata": {},
   "source": [
    "Para probar los resultados con los valores que ya tenia optimos de la optimizacion pasada"
   ]
  },
  {
   "cell_type": "code",
   "execution_count": 50,
   "metadata": {},
   "outputs": [
    {
     "name": "stdout",
     "output_type": "stream",
     "text": [
      "4356.5556810029275\n"
     ]
    }
   ],
   "source": [
    "resultados2 = function_test([978.36, 131571, 3.60, 0.00, 764.9, 3.56, 278.37, 12680, 3.56,\n",
    "                 2376.55, 191935, 3.48, 1725.2045067499794, 803364.870629, 6.14391455469,\n",
    "                 4591.876112601954, 126176948.8657, 3.250978952232])\n",
    "print(resultados2)"
   ]
  },
  {
   "cell_type": "code",
   "execution_count": 7,
   "metadata": {},
   "outputs": [
    {
     "name": "stdout",
     "output_type": "stream",
     "text": [
      "65.58642608762905\n"
     ]
    }
   ],
   "source": [
    "resultados_opt = function_test([9.420360000e+02, 1.200000e+04, 3.30000000e+00, 300.00000000e+00,\n",
    "  1.4185747e+03, 3.43000000e+00, 2.76370000e+02, 6.7052353e+03,\n",
    "  3.1777550e+00, 1.70791554e+03, 1.9065018e+05, 3.37316262e+00,\n",
    "  3.210003161e+03, 1.1809078e+05, 4.20752660e+00, 3.30500003161e+03,\n",
    "  1.302297698e+05, 4.1252660e+00])\n",
    "\n",
    "print(resultados_opt)"
   ]
  },
  {
   "cell_type": "markdown",
   "metadata": {},
   "source": [
    "Energies results"
   ]
  },
  {
   "cell_type": "code",
   "execution_count": 8,
   "metadata": {},
   "outputs": [],
   "source": [
    "x_start = [978.36, 131571, 3.60, 0.00, 764.9, 3.56, 278.37, 12680, 3.56,\n",
    "                 2376.55, 191935, 3.48, 1725.2045067499794, 803364.870629, 6.14391455469,\n",
    "                 4591.876112601954, 126176948.8657, 3.250978952232]\n",
    "\n",
    "x_start = [9.420360000e+02, 1.200000e+04, 3.30000000e+00, 300.00000000e+00,\n",
    "  1.4185747e+03, 3.43000000e+00, 2.76370000e+02, 6.7052353e+03,\n",
    "  3.1777550e+00, 1.70791554e+03, 1.9065018e+05, 3.37316262e+00,\n",
    "  3.210003161e+03, 1.1809078e+05, 4.20752660e+00, 3.30500003161e+03,\n",
    "  1.302297698e+05, 4.1252660e+00]"
   ]
  },
  {
   "cell_type": "code",
   "execution_count": 214,
   "metadata": {},
   "outputs": [],
   "source": [
    "start_new = [978.36, 131571, 3.60, 0.00, 764.9, 3.56, 278.37, 12680, 3.56,\n",
    "                           2376.55, 191935, 3.48, 1725.2045067499794, 275000, 4.1,\n",
    "                           4591.876112601954, 275000.00, 4.1]"
   ]
  },
  {
   "cell_type": "code",
   "execution_count": 246,
   "metadata": {},
   "outputs": [],
   "source": [
    "bounds = [(0, None) for _ in x_start]\n",
    "# bounds = [(0, None)] * len(x_start)\n",
    "\n",
    "result = spo.minimize(function_test, h, options={\"disp\": True}, bounds=bounds)\n"
   ]
  },
  {
   "cell_type": "code",
   "execution_count": 247,
   "metadata": {},
   "outputs": [
    {
     "name": "stdout",
     "output_type": "stream",
     "text": [
      "  message: ABNORMAL_TERMINATION_IN_LNSRCH\n",
      "  success: False\n",
      "   status: 2\n",
      "      fun: 1020819.5893117375\n",
      "        x: [ 9.784e+02  1.316e+05 ...  1.262e+06  3.901e+00]\n",
      "      nit: 6\n",
      "      jac: [ 1.513e-01  0.000e+00 ...  0.000e+00 -1.595e+03]\n",
      "     nfev: 1482\n",
      "     njev: 78\n",
      " hess_inv: <18x18 LbfgsInvHessProduct with dtype=float64>\n"
     ]
    }
   ],
   "source": [
    "print(result)"
   ]
  },
  {
   "cell_type": "code",
   "execution_count": 248,
   "metadata": {},
   "outputs": [
    {
     "name": "stdout",
     "output_type": "stream",
     "text": [
      "Parámetros optimizados: [9.78359994e+02 1.31571000e+05 3.63255133e+00 0.00000000e+00\n",
      " 7.64900000e+02 3.55999584e+00 2.78370369e+02 1.26800000e+04\n",
      " 4.15752421e+00 2.37655000e+03 1.91935000e+05 3.47955391e+00\n",
      " 3.45040901e+03 8.03364871e+05 6.12479603e+00 9.18375224e+03\n",
      " 1.26176987e+06 3.90117162e+00]\n"
     ]
    }
   ],
   "source": [
    "optimized_parameters = result.x\n",
    "print(\"Parámetros optimizados:\", optimized_parameters)"
   ]
  },
  {
   "cell_type": "markdown",
   "metadata": {},
   "source": [
    "### Parameters check with all the data"
   ]
  },
  {
   "cell_type": "code",
   "execution_count": 14,
   "metadata": {},
   "outputs": [],
   "source": [
    "def check(solution):\n",
    "    p_v = solution\n",
    "    vec_1a = [p_v[0],p_v[0],p_v[0],p_v[0],p_v[0],p_v[0],p_v[0],p_v[3],p_v[6],p_v[6],p_v[6],p_v[6],p_v[6],p_v[6],p_v[6],p_v[6],p_v[6],p_v[6],p_v[6],p_v[6],p_v[6],p_v[9]]\n",
    "    vec_1b = [p_v[1],p_v[1],p_v[1],p_v[1],p_v[1],p_v[1],p_v[1],p_v[4],p_v[7],p_v[7],p_v[7],p_v[7],p_v[7],p_v[7],p_v[7],p_v[7],p_v[7],p_v[7],p_v[7],p_v[7],p_v[7],p_v[10]]\n",
    "    vec_1c = [p_v[2],p_v[2],p_v[2],p_v[2],p_v[2],p_v[2],p_v[2],p_v[5],p_v[8],p_v[8],p_v[8],p_v[8],p_v[8],p_v[8],p_v[8],p_v[8],p_v[8],p_v[8],p_v[8],p_v[8],p_v[8],p_v[11]]\n",
    "    vec_1a = np.array(vec_1a)\n",
    "    vec_1b = np.array(vec_1b)\n",
    "    vec_1c = np.array(vec_1c)\n",
    "    vec_2a = [p_v[12],p_v[12],p_v[12],p_v[12],p_v[12],p_v[12],p_v[15]]\n",
    "    vec_2b = [p_v[13],p_v[13],p_v[13],p_v[13],p_v[13],p_v[13],p_v[16]]\n",
    "    vec_2c = [p_v[14],p_v[14],p_v[14],p_v[14],p_v[14],p_v[14],p_v[17]]\n",
    "    vec_2a = np.array(vec_2a)\n",
    "    vec_2b = np.array(vec_2b)\n",
    "    vec_2c = np.array(vec_2c)\n",
    "\n",
    "    v_12a = np.array((np.outer(vec_1a, vec_2a).flatten())**(0.5))\n",
    "    v_12b = np.array((np.outer(vec_1b, vec_2b).flatten())**(0.5))\n",
    "    v_12c = np.array(((0.5)*(vec_1c[:, np.newaxis] + vec_2c)).flatten())\n",
    "\n",
    "    vec_d = total_distances ## desde fuera\n",
    "    vec_a, vec_b, vec_c = v_12a, v_12b, v_12c\n",
    "    vec_q1q2 = vec_q1q2_pf6_quin ### desde fuera\n",
    "    \n",
    "   \n",
    "\n",
    "    combination_matrix = []\n",
    "    for vector in vec_d:\n",
    "        combination_matrix.append(np.vstack((vector, vec_a, vec_b, vec_c, vec_q1q2)))\n",
    "\n",
    "    combination_matrix = np.array(combination_matrix)\n",
    "\n",
    "    #### Transformar las energias objetivo (recordatorio mio xd)\n",
    "\n",
    "    energies = []\n",
    "    for i in range(combination_matrix.shape[0]):\n",
    "        sum = 0\n",
    "        for j in range(combination_matrix.shape[2]):\n",
    "            exp_term = (combination_matrix[i, 2, j])*(np.exp((-combination_matrix[i, 3, j])*(combination_matrix[i, 0, j])))\n",
    "            dis_ind_term = combination_matrix[i, 1, j]/((combination_matrix[i, 0, j])**6)\n",
    "            elst_term = (combination_matrix[i, 4, j])/(combination_matrix[i, 0, j]*angstrom_to_bohr)\n",
    "            sum = sum + (exp_term*kJ_to_kcal) - (dis_ind_term*kJ_to_kcal) + (elst_term*hartree_to_kcal)\n",
    "        energies.append(sum)\n",
    "        \n",
    "    diferencias = energies - total_energies\n",
    "    diferencias = np.array(diferencias)\n",
    "    diferencias = diferencias.sum()\n",
    "\n",
    "    return diferencias"
   ]
  },
  {
   "cell_type": "code",
   "execution_count": 238,
   "metadata": {},
   "outputs": [
    {
     "name": "stdout",
     "output_type": "stream",
     "text": [
      "67.24370039571568\n"
     ]
    }
   ],
   "source": [
    "values_optimized = check(optimized_parameters)\n",
    "print(values_optimized)"
   ]
  },
  {
   "cell_type": "markdown",
   "metadata": {},
   "source": [
    "Values actualization"
   ]
  },
  {
   "cell_type": "code",
   "execution_count": 249,
   "metadata": {},
   "outputs": [
    {
     "name": "stdout",
     "output_type": "stream",
     "text": [
      "F {'mass': 18.998403, 'charge': -0.17, 'A': 803364.870629, 'B': 6.1247960311413365, 'C': 3450.409005676946}\n",
      "P {'mass': 30.973762, 'charge': 1, 'A': 1261769.8657012093, 'B': 3.901171624427035, 'C': 9183.752239463935}\n",
      "C {'mass': 12.011, 'charge': -0.1115, 'A': 131571.0, 'B': 3.6325513256281408, 'C': 978.3599937465764}\n",
      "H {'mass': 1.008, 'charge': 0.115, 'A': 12679.999971626705, 'B': 4.157524213899933, 'C': 278.37036881531316}\n",
      "HN {'mass': 1.008, 'charge': 0.115, 'A': 764.9, 'B': 3.559995842190495, 'C': 0.0}\n",
      "N {'mass': 14.007, 'charge': 0.5973, 'A': 191935.0, 'B': 3.4795539088936565, 'C': 2376.5499986827717}\n",
      "{'F': {'mass': 18.998403, 'charge': -0.17, 'A': 803364.870629, 'B': 6.1247960311413365, 'C': 3450.409005676946}, 'P': {'mass': 30.973762, 'charge': 1, 'A': 1261769.8657012093, 'B': 3.901171624427035, 'C': 9183.752239463935}, 'C': {'mass': 12.011, 'charge': -0.1115, 'A': 131571.0, 'B': 3.6325513256281408, 'C': 978.3599937465764}, 'H': {'mass': 1.008, 'charge': 0.115, 'A': 12679.999971626705, 'B': 4.157524213899933, 'C': 278.37036881531316}, 'HN': {'mass': 1.008, 'charge': 0.115, 'A': 764.9, 'B': 3.559995842190495, 'C': 0.0}, 'N': {'mass': 14.007, 'charge': 0.5973, 'A': 191935.0, 'B': 3.4795539088936565, 'C': 2376.5499986827717}}\n"
     ]
    }
   ],
   "source": [
    "def actualizar_coeficientes(atom_types, vector):\n",
    "    elementos = ['C', 'HN', 'H', 'N', 'F', 'P']\n",
    "    variables = ['C', 'A', 'B']\n",
    "\n",
    "    # Itera sobre cada elemento y variable en el vector y actualiza el diccionario\n",
    "    for i, elemento in enumerate(elementos):\n",
    "        for j, variable in enumerate(variables):\n",
    "            # Calcula el índice correspondiente en el vector para acceder al valor\n",
    "            indice = i * len(variables) + j\n",
    "            # Actualiza el valor en el diccionario\n",
    "            atom_types[elemento][variable] = vector[indice]\n",
    "\n",
    "# Ejemplo de uso\n",
    "atom_types = {\n",
    "    'F': {'mass': 18.998403, 'charge': -0.17, 'A': 118090.78, 'B': 4.20752660, 'C': 3210.003161},\n",
    "    'P': {'mass': 30.973762, 'charge': 1 , 'A': 130229.7698, 'B': 4.1252660, 'C': 3305.00003161},\n",
    "    'C': {'mass': 12.011000, 'charge': - 0.1115 , 'A': 12000.00, 'B': 3.3000, 'C': 942.0360000},\n",
    "    'H': {'mass': 1.008000 , 'charge': 0.1150, 'A': 6705.2353, 'B': 3.1777550, 'C': 276.37000},\n",
    "    'HN': {'mass': 1.008000 , 'charge': 0.1150, 'A': 1418.5747, 'B': 3.43000, 'C': 300.00000000},\n",
    "    'N': {'mass': 14.007000 , 'charge': 0.5973, 'A': 190650.18, 'B': 3.37316262, 'C': 1707.91554}\n",
    "}\n",
    "\n",
    "vector_valores = optimized_parameters\n",
    "\n",
    "# Actualizar los coeficientes en atom_types usando el vector de valores\n",
    "actualizar_coeficientes(atom_types, vector_valores)\n",
    "\n",
    "# Verificar los resultados\n",
    "for elemento, valores in atom_types.items():\n",
    "    print(elemento, valores)\n",
    "\n",
    "print(atom_types)"
   ]
  },
  {
   "cell_type": "code",
   "execution_count": 192,
   "metadata": {},
   "outputs": [
    {
     "data": {
      "text/plain": [
       "2334116.0602799994"
      ]
     },
     "execution_count": 192,
     "metadata": {},
     "output_type": "execute_result"
    }
   ],
   "source": [
    "w = function_test(h)\n",
    "w "
   ]
  },
  {
   "cell_type": "code",
   "execution_count": 174,
   "metadata": {},
   "outputs": [
    {
     "data": {
      "text/plain": [
       "10407238.514492482"
      ]
     },
     "execution_count": 174,
     "metadata": {},
     "output_type": "execute_result"
    }
   ],
   "source": [
    "w = function_test([9.420360000e+02, 1.200000e+04, 3.30000000e+00, 300.00000000e+00,\n",
    "  1.4185747e+03, 3.43000000e+00, 2.76370000e+02, 6.7052353e+03,\n",
    "  3.1777550e+00, 1.70791554e+03, 1.9065018e+05, 3.37316262e+00,\n",
    "  3.210003161e+03, 1.1809078e+05, 4.20752660e+00, 3.30500003161e+03,\n",
    "  1.302297698e+05, 4.1252660e+00])\n",
    "w "
   ]
  }
 ],
 "metadata": {
  "kernelspec": {
   "display_name": "psi4",
   "language": "python",
   "name": "python3"
  },
  "language_info": {
   "codemirror_mode": {
    "name": "ipython",
    "version": 3
   },
   "file_extension": ".py",
   "mimetype": "text/x-python",
   "name": "python",
   "nbconvert_exporter": "python",
   "pygments_lexer": "ipython3",
   "version": "3.11.7"
  }
 },
 "nbformat": 4,
 "nbformat_minor": 2
}

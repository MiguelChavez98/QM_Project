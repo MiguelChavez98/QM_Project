{
 "cells": [
  {
   "cell_type": "code",
   "execution_count": 1,
   "metadata": {},
   "outputs": [],
   "source": [
    "\n",
    "import scipy\n",
    "import numpy as np\n",
    "from scipy.spatial.distance import cdist\n",
    "import matplotlib.pyplot as plt\n",
    "from scipy.optimize import curve_fit\n",
    "import scipy.constants as const\n",
    "from scipy.spatial.transform import Rotation as R"
   ]
  },
  {
   "cell_type": "markdown",
   "metadata": {},
   "source": [
    "## Constants"
   ]
  },
  {
   "cell_type": "code",
   "execution_count": 11,
   "metadata": {},
   "outputs": [],
   "source": [
    "# Valor de bohr en metros\n",
    "bohr_factor = const.value('Bohr radius')\n",
    "# Factor de conversión de angstrom a bohr\n",
    "angstrom_to_bohr = const.angstrom / bohr_factor\n",
    "hartree_to_kcal = 627.509\n",
    "kJ_to_kcal = 1 / 4.184"
   ]
  },
  {
   "cell_type": "markdown",
   "metadata": {},
   "source": [
    "# Data"
   ]
  },
  {
   "cell_type": "code",
   "execution_count": 5,
   "metadata": {},
   "outputs": [],
   "source": [
    "# Data from sapt2\n",
    "\n",
    "distances_r = [3.2, 3.3, 3.4, 3.6, 3.7, 3.8, 3.9, 4.0, 4.2, 4.4, 4.5, 4.6, 4.7,\n",
    "               4.8, 4.9, 5.2, 5.4, 5.5, 5.7, 6.1, 6.3, 6.5, 6.8]\n",
    "\n",
    "energies = [1.24707, 0.92268, 0.6865,  0.39661, 0.31076, 0.24977, 0.20653,\n",
    "            0.17591, 0.13882, 0.11991, 0.11411, 0.10977, 0.10641, 0.10371,\n",
    "            0.10146, 0.09609, 0.09307, 0.09164, 0.08891, 0.08384, 0.08148,\n",
    "            0.07922, 0.07603]\n",
    "\n",
    "\n",
    "ind_disp = [-160.83328237, -117.40916117, -88.02454154, -51.32540357,\n",
    "            -39.99912747, -31.65553907, -25.4411985, -20.74822247,\n",
    "            -14.342125240000001, -10.31628075, -8.842262009999999,\n",
    "            -7.62124806, -6.60364195, -5.7528848, -5.03997461, -3.50615447,\n",
    "            -2.82605019, -2.55482163, -2.1133328799999997, -1.50350457,\n",
    "            -1.2874137600000002, -1.11120684, -0.90249682]\n",
    "\n",
    "# Data from isa\n",
    "charge_by_atom = [-0.547209,  -0.547209,  -0.547209,  -0.542063, -0.542063,\n",
    "                  -0.552955,  2.272009]\n",
    "\n",
    "\n",
    "base_molecule = np.array([[-0.287885, 1.142383, 1.086087],\n",
    "                          [-0.287885, -1.142383, 1.086087],\n",
    "                          [-1.520467, 0.0, -0.456775],\n",
    "                          [0.325382, -1.131606, -1.059753],\n",
    "                          [0.325382, 1.131606, -1.059753],\n",
    "                          [1.548288, 0.0, 0.428623],\n",
    "                          [0.0, 0.0, 0.0]])"
   ]
  },
  {
   "cell_type": "code",
   "execution_count": 6,
   "metadata": {},
   "outputs": [],
   "source": [
    "energies_kcal = (np.array(energies)*627.509)\n",
    "x_values = np.array(distances_r)\n",
    "y_values = np.array(ind_disp)\n",
    "atom_type = [1, 1, 1, 1, 1, 1, 0]"
   ]
  },
  {
   "cell_type": "code",
   "execution_count": 7,
   "metadata": {},
   "outputs": [],
   "source": [
    "atom_type = np.array(atom_type)\n",
    "atom_type2 = np.array(atom_type)\n",
    "atom_type = atom_type[:, np.newaxis]\n",
    "atom_type2 = atom_type2[np.newaxis, :]\n",
    "type_matrix = atom_type + atom_type2\n",
    "type_matrix_flat = type_matrix.flatten()"
   ]
  },
  {
   "cell_type": "markdown",
   "metadata": {},
   "source": [
    "# optimization"
   ]
  },
  {
   "cell_type": "code",
   "execution_count": 2,
   "metadata": {},
   "outputs": [],
   "source": [
    "from scipy import optimize"
   ]
  },
  {
   "cell_type": "markdown",
   "metadata": {},
   "source": [
    "#### Function for optimization or calculate differences"
   ]
  },
  {
   "cell_type": "code",
   "execution_count": 17,
   "metadata": {},
   "outputs": [],
   "source": [
    "def function_test(solution):\n",
    "    p_v = solution\n",
    "    vec_1a = [p_v[0],p_v[0],p_v[0],p_v[0],p_v[0],p_v[0],p_v[0],p_v[3],p_v[6],p_v[6],p_v[6],p_v[6],p_v[6],p_v[6],p_v[6],p_v[6],p_v[6],p_v[6],p_v[6],p_v[6],p_v[6],p_v[9]]\n",
    "    vec_1b = [p_v[1],p_v[1],p_v[1],p_v[1],p_v[1],p_v[1],p_v[1],p_v[4],p_v[7],p_v[7],p_v[7],p_v[7],p_v[7],p_v[7],p_v[7],p_v[7],p_v[7],p_v[7],p_v[7],p_v[7],p_v[7],p_v[10]]\n",
    "    vec_1c = [p_v[2],p_v[2],p_v[2],p_v[2],p_v[2],p_v[2],p_v[2],p_v[5],p_v[8],p_v[8],p_v[8],p_v[8],p_v[8],p_v[8],p_v[8],p_v[8],p_v[8],p_v[8],p_v[8],p_v[8],p_v[8],p_v[11]]\n",
    "    vec_1a = np.array(vec_1a)\n",
    "    vec_1b = np.array(vec_1b)\n",
    "    vec_1c = np.array(vec_1c)\n",
    "    vec_2a = [p_v[12],p_v[12],p_v[12],p_v[12],p_v[12],p_v[12],p_v[15]]\n",
    "    vec_2b = [p_v[13],p_v[13],p_v[13],p_v[13],p_v[13],p_v[13],p_v[16]]\n",
    "    vec_2c = [p_v[14],p_v[14],p_v[14],p_v[14],p_v[14],p_v[14],p_v[17]]\n",
    "    vec_2a = np.array(vec_2a)\n",
    "    vec_2b = np.array(vec_2b)\n",
    "    vec_2c = np.array(vec_2c)\n",
    "\n",
    "    v_12a = np.array((np.outer(vec_1a, vec_2a).flatten())**(0.5))\n",
    "    v_12b = np.array((np.outer(vec_1b, vec_2b).flatten())**(0.5))\n",
    "    v_12c = np.array(((0.5)*(vec_1c[:, np.newaxis] + vec_2c)).flatten())\n",
    "\n",
    "    vec_d = total_distances ## desde fuera\n",
    "    vec_a, vec_b, vec_c = v_12a, v_12b, v_12c\n",
    "    vec_q1q2 = vec_q1q2_pf6_quin ### desde fuera\n",
    "    \n",
    "   #### Transformar las energias objetivo \n",
    "\n",
    "    combination_matrix = []\n",
    "    for vector in vec_d:\n",
    "        combination_matrix.append(np.vstack((vector, vec_a, vec_b, vec_c, vec_q1q2)))\n",
    "\n",
    "    combination_matrix = np.array(combination_matrix)\n",
    "    energies = []\n",
    "    for i in range(combination_matrix.shape[0]):\n",
    "        sum = 0\n",
    "        for j in range(combination_matrix.shape[2]):\n",
    "            exp_term = (combination_matrix[i, 2, j])*(np.exp((-combination_matrix[i, 3, j])*(combination_matrix[i, 0, j])))\n",
    "            dis_ind_term = combination_matrix[i, 1, j]/((combination_matrix[i, 0, j])**6)\n",
    "            elst_term = (combination_matrix[i, 4, j])/(combination_matrix[i, 0, j]*angstrom_to_bohr)\n",
    "            sum = sum + (exp_term*kJ_to_kcal) - (dis_ind_term*kJ_to_kcal) + (elst_term*hartree_to_kcal)\n",
    "        energies.append(sum)\n",
    "        \n",
    "    diferencias = energies - total_energies\n",
    "    diferencias = np.array(diferencias)\n",
    "    diferencias = diferencias.sum\n",
    "\n",
    "    return "
   ]
  },
  {
   "cell_type": "markdown",
   "metadata": {},
   "source": [
    "Other functions"
   ]
  },
  {
   "cell_type": "code",
   "execution_count": 15,
   "metadata": {},
   "outputs": [],
   "source": [
    "coordinates_quin_to_pf6_1 = np.load (r\"C:\\Users\\migue\\Downloads\\Pf6_quin_configurations_genetic.npy\")\n",
    "coordinates_quin_to_pf6_2 = np.load (r\"C:\\Users\\migue\\Downloads\\quin_configurations_genetic.npy\")\n",
    "\n",
    "coordinates_quin_to_pf6_total = np.concatenate((coordinates_quin_to_pf6_1, coordinates_quin_to_pf6_2), axis = 0)\n",
    "\n",
    "\n",
    "# first coordinates pf6 - 80 : \"C:\\Users\\migue\\Downloads\\PF6_centered_for_geneticAlg.xyz\"\n",
    "# second coordinates pf6 - 18: \"C:\\Users\\migue\\Downloads\\pf6_centered_180_1_genetic.xyz\"\n",
    "# thrid coordinates pf6 - 18: \"C:\\Users\\migue\\Downloads\\pf6_centered_180_2_genetic.xyz\"\n",
    "# forth coordinates pf6 - 18: \"C:\\Users\\migue\\Downloads\\pf6_centered_180_3_genetic.xyz\"\n",
    "\n",
    "\n",
    "def xyz_a_matriz_numpy(ruta_archivo_xyz):\n",
    "    # Leer el contenido del archivo\n",
    "    with open(ruta_archivo_xyz, 'r') as archivo:\n",
    "        lineas = archivo.readlines()\n",
    "\n",
    "    # Omitir la primera línea (contiene el número total de átomos) y otras no necesarias\n",
    "    # Asumimos que las coordenadas comienzan desde la tercera línea\n",
    "    lineas_coordenadas = lineas[2:]\n",
    "    \n",
    "    # Preparar una lista para almacenar las coordenadas\n",
    "    coordenadas = []\n",
    "    \n",
    "    for linea in lineas_coordenadas:\n",
    "        if linea.strip():  # Verificar que la línea no esté vacía\n",
    "            partes = linea.split()\n",
    "            if len(partes) == 4:  # Asegurar que la línea tenga el formato esperado (Elemento x y z)\n",
    "                # Convertir las partes numéricas (x, y, z) a flotantes y añadir a la lista\n",
    "                coordenadas.append([float(partes[1]), float(partes[2]), float(partes[3])])\n",
    "\n",
    "    # Convertir la lista de coordenadas a una matriz NumPy\n",
    "    matriz_coordenadas = np.array(coordenadas)\n",
    "\n",
    "    return matriz_coordenadas\n",
    "\n",
    "\n",
    "coord_pf6_80 = xyz_a_matriz_numpy(r\"C:\\Users\\migue\\Downloads\\PF6_centered_for_geneticAlg.xyz\")\n",
    "coord_pf6_18_1 = xyz_a_matriz_numpy(r\"C:\\Users\\migue\\Downloads\\pf6_centered_180_1_genetic.xyz\")\n",
    "coord_pf6_18_2 = xyz_a_matriz_numpy(r\"C:\\Users\\migue\\Downloads\\pf6_centered_180_2_genetic.xyz\")\n",
    "coord_pf6_18_3 = xyz_a_matriz_numpy(r\"C:\\Users\\migue\\Downloads\\pf6_centered_180_3_genetic.xyz\")\n",
    "\n",
    "\n",
    "def space_distances_generation(base_molecule, configurations):\n",
    "    space_distance_vec = []\n",
    "    for w in range(len(configurations)):  # w is the distances vector\n",
    "        space_distance = cdist(base_molecule, configurations[w], 'euclidean')\n",
    "        space_distance = np.array(space_distance.flatten())\n",
    "        space_distance_vec.append(space_distance)\n",
    "    return np.array(space_distance_vec)\n",
    "\n",
    "energies_80 = np.load(r\"C:\\Users\\migue\\Downloads\\pf6_quin_energies_80.npz\")\n",
    "energies_180_1 = np.load(r\"C:\\Users\\migue\\Downloads\\quin_pf6_180_1_ene.npz\")\n",
    "energies_180_2 = np.load(r\"C:\\Users\\migue\\Downloads\\quin_fp6_180_2_ene.npz\")\n",
    "energies_180_3 = np.load(r\"C:\\Users\\migue\\Downloads\\quin_pf6_180_3_ene.npz\")\n",
    "\n",
    "energies_pf6_80 = energies_80['esapt']\n",
    "energies_pf6_180_1 = energies_180_1['esapt']*hartree_to_kcal\n",
    "energies_pf6_180_2 = energies_180_2['esapt']*hartree_to_kcal\n",
    "energies_pf6_180_3 = energies_180_3['esapt']*hartree_to_kcal\n",
    "\n",
    "total_energies = np.array(np.concatenate((energies_pf6_80,energies_pf6_180_1,energies_pf6_180_2, energies_pf6_180_3), axis = 0))\n",
    "\n",
    "distances_80 = space_distances_generation(coord_pf6_80, coordinates_quin_to_pf6_1)\n",
    "distances_180_1 = space_distances_generation(coord_pf6_18_1, coordinates_quin_to_pf6_2)\n",
    "distances_180_2 = space_distances_generation(coord_pf6_18_2, coordinates_quin_to_pf6_2)\n",
    "distances_180_3 = space_distances_generation(coord_pf6_18_3, coordinates_quin_to_pf6_2)\n",
    "\n",
    "total_distances = np.concatenate((distances_80, distances_180_1, distances_180_2, distances_180_3), axis = 0)\n",
    "\n",
    "\n",
    "####concatenar distancias \n",
    "\n",
    "charges_chn = [0.038097, -0.167411, -0.167412, 0.030591, -0.013700, -0.013700, -0.234656,\n",
    "           0.272792, 0.094346, 0.097032,  0.097032, 0.098344, 0.098344, 0.079640, 0.079641,\n",
    "           0.092649, 0.092649, 0.091285, 0.091285, 0.103953, 0.103953, 0.035246]\n",
    "\n",
    "\n",
    "charges_pf6 = [-0.547209,  -0.547209,  -0.547209,  -0.542063, -0.542063,\n",
    "               -0.552955,  2.272009]\n",
    "\n",
    "\n",
    "# a b c for molecules C(4), H(4), H(1), N(3), F, P\n",
    "p_v = [978.36, 131571, 3.60, 0.00, 764.9, 3.56, 278.37, 12680, 3.56,\n",
    "                 2376.55, 191935, 3.48, 283248.0316091423, 273570.9941372, 4.0775266,\n",
    "                 283248.0316091423, 273570.9941372, 4.0775266]\n",
    "\n",
    "def vector_q1q2(vec_1, vec_2):\n",
    "    v_q1q2 = np.outer(vec_1, vec_2).flatten()\n",
    "    return np.array(v_q1q2)\n",
    "\n",
    "\n",
    "vec_q1q2_pf6_quin = vector_q1q2(charges_pf6, charges_chn)"
   ]
  },
  {
   "cell_type": "markdown",
   "metadata": {},
   "source": [
    "Energies results"
   ]
  },
  {
   "cell_type": "code",
   "execution_count": 12,
   "metadata": {},
   "outputs": [],
   "source": [
    "energies_80 = np.load(r\"C:\\Users\\migue\\Downloads\\pf6_quin_energies_80.npz\")\n",
    "energies_180_1 = np.load(r\"C:\\Users\\migue\\Downloads\\quin_pf6_180_1_ene.npz\")\n",
    "energies_180_2 = np.load(r\"C:\\Users\\migue\\Downloads\\quin_fp6_180_2_ene.npz\")\n",
    "energies_180_3 = np.load(r\"C:\\Users\\migue\\Downloads\\quin_pf6_180_3_ene.npz\")\n",
    "\n",
    "energies_pf6_80 = energies_80['esapt']\n",
    "energies_pf6_180_1 = energies_180_1['esapt']*hartree_to_kcal\n",
    "energies_pf6_180_2 = energies_180_2['esapt']*hartree_to_kcal\n",
    "energies_pf6_180_3 = energies_180_3['esapt']*hartree_to_kcal\n",
    "\n",
    "total_energies = np.array(np.concatenate((energies_pf6_80,energies_pf6_180_1,energies_pf6_180_2, energies_pf6_180_3), axis = 0))\n",
    "\n",
    "\n",
    "x0 = [978.36, 131571, 3.60, 0.00, 764.9, 3.56, 278.37, 12680, 3.56,\n",
    "                 2376.55, 191935, 3.48, 824.667546247, 803364.870629, 6.14391455469,\n",
    "                 2194.9694610908, 126176948.8657, 3.250978952232]"
   ]
  },
  {
   "cell_type": "code",
   "execution_count": 18,
   "metadata": {},
   "outputs": [
    {
     "ename": "TypeError",
     "evalue": "'<' not supported between instances of 'NoneType' and 'float'",
     "output_type": "error",
     "traceback": [
      "\u001b[1;31m---------------------------------------------------------------------------\u001b[0m",
      "\u001b[1;31mTypeError\u001b[0m                                 Traceback (most recent call last)",
      "Cell \u001b[1;32mIn[18], line 1\u001b[0m\n\u001b[1;32m----> 1\u001b[0m vector_solution \u001b[38;5;241m=\u001b[39m scipy\u001b[38;5;241m.\u001b[39moptimize\u001b[38;5;241m.\u001b[39mminimize(function_test, x0 )\n",
      "File \u001b[1;32mc:\\Users\\migue\\anaconda3\\envs\\psi4\\Lib\\site-packages\\scipy\\optimize\\_minimize.py:705\u001b[0m, in \u001b[0;36mminimize\u001b[1;34m(fun, x0, args, method, jac, hess, hessp, bounds, constraints, tol, callback, options)\u001b[0m\n\u001b[0;32m    703\u001b[0m     res \u001b[38;5;241m=\u001b[39m _minimize_cg(fun, x0, args, jac, callback, \u001b[38;5;241m*\u001b[39m\u001b[38;5;241m*\u001b[39moptions)\n\u001b[0;32m    704\u001b[0m \u001b[38;5;28;01melif\u001b[39;00m meth \u001b[38;5;241m==\u001b[39m \u001b[38;5;124m'\u001b[39m\u001b[38;5;124mbfgs\u001b[39m\u001b[38;5;124m'\u001b[39m:\n\u001b[1;32m--> 705\u001b[0m     res \u001b[38;5;241m=\u001b[39m _minimize_bfgs(fun, x0, args, jac, callback, \u001b[38;5;241m*\u001b[39m\u001b[38;5;241m*\u001b[39moptions)\n\u001b[0;32m    706\u001b[0m \u001b[38;5;28;01melif\u001b[39;00m meth \u001b[38;5;241m==\u001b[39m \u001b[38;5;124m'\u001b[39m\u001b[38;5;124mnewton-cg\u001b[39m\u001b[38;5;124m'\u001b[39m:\n\u001b[0;32m    707\u001b[0m     res \u001b[38;5;241m=\u001b[39m _minimize_newtoncg(fun, x0, args, jac, hess, hessp, callback,\n\u001b[0;32m    708\u001b[0m                              \u001b[38;5;241m*\u001b[39m\u001b[38;5;241m*\u001b[39moptions)\n",
      "File \u001b[1;32mc:\\Users\\migue\\anaconda3\\envs\\psi4\\Lib\\site-packages\\scipy\\optimize\\_optimize.py:1419\u001b[0m, in \u001b[0;36m_minimize_bfgs\u001b[1;34m(fun, x0, args, jac, callback, gtol, norm, eps, maxiter, disp, return_all, finite_diff_rel_step, xrtol, **unknown_options)\u001b[0m\n\u001b[0;32m   1416\u001b[0m \u001b[38;5;28;01mif\u001b[39;00m maxiter \u001b[38;5;129;01mis\u001b[39;00m \u001b[38;5;28;01mNone\u001b[39;00m:\n\u001b[0;32m   1417\u001b[0m     maxiter \u001b[38;5;241m=\u001b[39m \u001b[38;5;28mlen\u001b[39m(x0) \u001b[38;5;241m*\u001b[39m \u001b[38;5;241m200\u001b[39m\n\u001b[1;32m-> 1419\u001b[0m sf \u001b[38;5;241m=\u001b[39m _prepare_scalar_function(fun, x0, jac, args\u001b[38;5;241m=\u001b[39margs, epsilon\u001b[38;5;241m=\u001b[39meps,\n\u001b[0;32m   1420\u001b[0m                               finite_diff_rel_step\u001b[38;5;241m=\u001b[39mfinite_diff_rel_step)\n\u001b[0;32m   1422\u001b[0m f \u001b[38;5;241m=\u001b[39m sf\u001b[38;5;241m.\u001b[39mfun\n\u001b[0;32m   1423\u001b[0m myfprime \u001b[38;5;241m=\u001b[39m sf\u001b[38;5;241m.\u001b[39mgrad\n",
      "File \u001b[1;32mc:\\Users\\migue\\anaconda3\\envs\\psi4\\Lib\\site-packages\\scipy\\optimize\\_optimize.py:383\u001b[0m, in \u001b[0;36m_prepare_scalar_function\u001b[1;34m(fun, x0, jac, args, bounds, epsilon, finite_diff_rel_step, hess)\u001b[0m\n\u001b[0;32m    379\u001b[0m     bounds \u001b[38;5;241m=\u001b[39m (\u001b[38;5;241m-\u001b[39mnp\u001b[38;5;241m.\u001b[39minf, np\u001b[38;5;241m.\u001b[39minf)\n\u001b[0;32m    381\u001b[0m \u001b[38;5;66;03m# ScalarFunction caches. Reuse of fun(x) during grad\u001b[39;00m\n\u001b[0;32m    382\u001b[0m \u001b[38;5;66;03m# calculation reduces overall function evaluations.\u001b[39;00m\n\u001b[1;32m--> 383\u001b[0m sf \u001b[38;5;241m=\u001b[39m ScalarFunction(fun, x0, args, grad, hess,\n\u001b[0;32m    384\u001b[0m                     finite_diff_rel_step, bounds, epsilon\u001b[38;5;241m=\u001b[39mepsilon)\n\u001b[0;32m    386\u001b[0m \u001b[38;5;28;01mreturn\u001b[39;00m sf\n",
      "File \u001b[1;32mc:\\Users\\migue\\anaconda3\\envs\\psi4\\Lib\\site-packages\\scipy\\optimize\\_differentiable_functions.py:158\u001b[0m, in \u001b[0;36mScalarFunction.__init__\u001b[1;34m(self, fun, x0, args, grad, hess, finite_diff_rel_step, finite_diff_bounds, epsilon)\u001b[0m\n\u001b[0;32m    155\u001b[0m     \u001b[38;5;28mself\u001b[39m\u001b[38;5;241m.\u001b[39mf \u001b[38;5;241m=\u001b[39m fun_wrapped(\u001b[38;5;28mself\u001b[39m\u001b[38;5;241m.\u001b[39mx)\n\u001b[0;32m    157\u001b[0m \u001b[38;5;28mself\u001b[39m\u001b[38;5;241m.\u001b[39m_update_fun_impl \u001b[38;5;241m=\u001b[39m update_fun\n\u001b[1;32m--> 158\u001b[0m \u001b[38;5;28mself\u001b[39m\u001b[38;5;241m.\u001b[39m_update_fun()\n\u001b[0;32m    160\u001b[0m \u001b[38;5;66;03m# Gradient evaluation\u001b[39;00m\n\u001b[0;32m    161\u001b[0m \u001b[38;5;28;01mif\u001b[39;00m \u001b[38;5;28mcallable\u001b[39m(grad):\n",
      "File \u001b[1;32mc:\\Users\\migue\\anaconda3\\envs\\psi4\\Lib\\site-packages\\scipy\\optimize\\_differentiable_functions.py:251\u001b[0m, in \u001b[0;36mScalarFunction._update_fun\u001b[1;34m(self)\u001b[0m\n\u001b[0;32m    249\u001b[0m \u001b[38;5;28;01mdef\u001b[39;00m \u001b[38;5;21m_update_fun\u001b[39m(\u001b[38;5;28mself\u001b[39m):\n\u001b[0;32m    250\u001b[0m     \u001b[38;5;28;01mif\u001b[39;00m \u001b[38;5;129;01mnot\u001b[39;00m \u001b[38;5;28mself\u001b[39m\u001b[38;5;241m.\u001b[39mf_updated:\n\u001b[1;32m--> 251\u001b[0m         \u001b[38;5;28mself\u001b[39m\u001b[38;5;241m.\u001b[39m_update_fun_impl()\n\u001b[0;32m    252\u001b[0m         \u001b[38;5;28mself\u001b[39m\u001b[38;5;241m.\u001b[39mf_updated \u001b[38;5;241m=\u001b[39m \u001b[38;5;28;01mTrue\u001b[39;00m\n",
      "File \u001b[1;32mc:\\Users\\migue\\anaconda3\\envs\\psi4\\Lib\\site-packages\\scipy\\optimize\\_differentiable_functions.py:155\u001b[0m, in \u001b[0;36mScalarFunction.__init__.<locals>.update_fun\u001b[1;34m()\u001b[0m\n\u001b[0;32m    154\u001b[0m \u001b[38;5;28;01mdef\u001b[39;00m \u001b[38;5;21mupdate_fun\u001b[39m():\n\u001b[1;32m--> 155\u001b[0m     \u001b[38;5;28mself\u001b[39m\u001b[38;5;241m.\u001b[39mf \u001b[38;5;241m=\u001b[39m fun_wrapped(\u001b[38;5;28mself\u001b[39m\u001b[38;5;241m.\u001b[39mx)\n",
      "File \u001b[1;32mc:\\Users\\migue\\anaconda3\\envs\\psi4\\Lib\\site-packages\\scipy\\optimize\\_differentiable_functions.py:148\u001b[0m, in \u001b[0;36mScalarFunction.__init__.<locals>.fun_wrapped\u001b[1;34m(x)\u001b[0m\n\u001b[0;32m    142\u001b[0m     \u001b[38;5;28;01mexcept\u001b[39;00m (\u001b[38;5;167;01mTypeError\u001b[39;00m, \u001b[38;5;167;01mValueError\u001b[39;00m) \u001b[38;5;28;01mas\u001b[39;00m e:\n\u001b[0;32m    143\u001b[0m         \u001b[38;5;28;01mraise\u001b[39;00m \u001b[38;5;167;01mValueError\u001b[39;00m(\n\u001b[0;32m    144\u001b[0m             \u001b[38;5;124m\"\u001b[39m\u001b[38;5;124mThe user-provided objective function \u001b[39m\u001b[38;5;124m\"\u001b[39m\n\u001b[0;32m    145\u001b[0m             \u001b[38;5;124m\"\u001b[39m\u001b[38;5;124mmust return a scalar value.\u001b[39m\u001b[38;5;124m\"\u001b[39m\n\u001b[0;32m    146\u001b[0m         ) \u001b[38;5;28;01mfrom\u001b[39;00m \u001b[38;5;21;01me\u001b[39;00m\n\u001b[1;32m--> 148\u001b[0m \u001b[38;5;28;01mif\u001b[39;00m fx \u001b[38;5;241m<\u001b[39m \u001b[38;5;28mself\u001b[39m\u001b[38;5;241m.\u001b[39m_lowest_f:\n\u001b[0;32m    149\u001b[0m     \u001b[38;5;28mself\u001b[39m\u001b[38;5;241m.\u001b[39m_lowest_x \u001b[38;5;241m=\u001b[39m x\n\u001b[0;32m    150\u001b[0m     \u001b[38;5;28mself\u001b[39m\u001b[38;5;241m.\u001b[39m_lowest_f \u001b[38;5;241m=\u001b[39m fx\n",
      "\u001b[1;31mTypeError\u001b[0m: '<' not supported between instances of 'NoneType' and 'float'"
     ]
    }
   ],
   "source": [
    "vector_solution = scipy.optimize.minimize(function_test, x0 )"
   ]
  }
 ],
 "metadata": {
  "kernelspec": {
   "display_name": "psi4",
   "language": "python",
   "name": "python3"
  },
  "language_info": {
   "codemirror_mode": {
    "name": "ipython",
    "version": 3
   },
   "file_extension": ".py",
   "mimetype": "text/x-python",
   "name": "python",
   "nbconvert_exporter": "python",
   "pygments_lexer": "ipython3",
   "version": "3.11.7"
  }
 },
 "nbformat": 4,
 "nbformat_minor": 2
}

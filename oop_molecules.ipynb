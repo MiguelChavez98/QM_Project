{
 "cells": [
  {
   "cell_type": "code",
   "execution_count": 253,
   "metadata": {},
   "outputs": [],
   "source": [
    "import scipy\n",
    "import numpy as np\n",
    "from scipy.spatial.distance import cdist\n",
    "import matplotlib.pyplot as plt\n",
    "import scipy.optimize as spo\n",
    "from scipy.optimize import minimize\n",
    "import scipy.constants as const\n",
    "from scipy.spatial.transform import Rotation as R\n",
    "import copy\n",
    "import py3Dmol as p3d\n",
    "import ipywidgets"
   ]
  },
  {
   "cell_type": "markdown",
   "metadata": {},
   "source": [
    "## Constants"
   ]
  },
  {
   "cell_type": "code",
   "execution_count": 194,
   "metadata": {},
   "outputs": [],
   "source": [
    "# Valor de bohr en metros\n",
    "bohr_factor = const.value('Bohr radius')\n",
    "# Factor de conversión de angstrom a bohr\n",
    "angstrom_to_bohr = const.angstrom / bohr_factor # 1.8897261246257702\n",
    "hartree_to_kcal = 627.509\n",
    "kJ_to_kcal = 1 / 4.184\n",
    "kcal_to_kJ = 4.184\n",
    "hartree_to_kJ = 2625.5\n",
    "bohr_6_to_angstrom_6 = 0.0219586"
   ]
  },
  {
   "cell_type": "markdown",
   "metadata": {},
   "source": [
    "### important information - \n",
    "\n",
    "- The xyz file needs to specify the type of atom in the same way as the buckingham forcefield does.\n",
    "\n",
    "- The charges vector needs to have the same arrangement of the xyz file, atom 1 in xyz file is [0] and   final atom in the xyz file needs to be the [-1] in the vector.\n",
    "\n",
    "- "
   ]
  },
  {
   "cell_type": "markdown",
   "metadata": {},
   "source": [
    "# Classes for molecules, dimers and energy calculation."
   ]
  },
  {
   "cell_type": "code",
   "execution_count": 328,
   "metadata": {},
   "outputs": [],
   "source": [
    "class MolBuckingham:\n",
    "    def __init__(self, file_xyz, vector_charges):\n",
    "\n",
    "        # check if the vector charges and the file have the same length once the two vectors are created \n",
    "\n",
    "        '''This class is used to define the molecule,\n",
    "            The parameters A, B and C, from buckingham potential,\n",
    "            and the methods needed to change it or copy the molecule.\n",
    "            \n",
    "            ------------------------------------------------------\n",
    "            specifications: \n",
    "\n",
    "            the file has to be a normal xyz file with the atoms coords\n",
    "            starting in the third line, first is number of atoms and second is blank\n",
    "\n",
    "            for this specific scrip the molecules have to be labeled as in the\n",
    "            buckingham potential nomenclature. ex. C -- >  C(1), C(2), C(4) etc\n",
    "\n",
    "            \n",
    "            '''\n",
    "        \n",
    "        # buckingham_parameters = {\n",
    "        # 'F': {'A': 572.5393297, 'B': 236361.448, 'C': 4.01416701},\n",
    "        # 'P': {'A': 95491.66099275, 'B': 252780.774, 'C': 4.09048675},\n",
    "        # 'C(4)': {'A': 978.36, 'B': 131571, 'C': 3.60},\n",
    "        # 'H(4)': {'A': 0.00, 'B': 764.9, 'C': 3.56},\n",
    "        # 'H(1)': {'A': 278.37, 'B': 12680, 'C': 3.56},  \n",
    "        # 'N(3)': {'A': 2376.55, 'B': 191935, 'C': 3.48}\n",
    "        # } # ['F', 'P', 'C(4)', 'H(4)', 'H(1)', 'N(3)'] # originals\n",
    "\n",
    "\n",
    "        buckingham_parameters = {\n",
    "        'F': {'A': 6.28967411e+02, 'B': 2.18011845e+05, 'C': 4.41439140e+00},\n",
    "        'P': {'A': 9.81450011e+04, 'B': 2.62227465e+05, 'C': 3.68175431e+00},\n",
    "        'C(4)': {'A': 1.07531447e+03, 'B': 1.25229826e+05, 'C':3.88938850e+00},\n",
    "        'H(4)': {'A': 1.28744454e-04, 'B': 7.57354058e+02, 'C': 3.73860465e+00},\n",
    "        'H(1)': {'A': 2.50547082e+02, 'B': 1.17402788e+04, 'C': 3.91599996e+00},  \n",
    "        'N(3)': {'A': 2.21859997e+03, 'B': 1.82190172e+05, 'C': 3.18318908e+00}\n",
    "        } # ['F', 'P', 'C(4)', 'H(4)', 'H(1)', 'N(3)']\n",
    "\n",
    "\n",
    "\n",
    "        self.buckingham_original_parameters = buckingham_parameters.copy()\n",
    "\n",
    "        self.file_xyz = file_xyz # to store the file\n",
    "        self.num_atoms = '999' # some number to initialize the atribute\n",
    "        self.atom_types = [] # vector to store the atom types of the molecule\n",
    "        self.coordinates = [] # vector to store the coordinaties of each atom in the molecule \n",
    "        self.charges = np.array(vector_charges) # vector to store the charge of each atom in the molecule \n",
    "        \n",
    "        # --------------------------------------------\n",
    "        ''' The next part is to read the xyz file and separate \n",
    "            the atom name and coordinates, but they are stored in the same order so \n",
    "            we can say that the index of two list correspond to the same atom'''\n",
    "        #---------------------------------------------\n",
    "\n",
    "        with open (self.file_xyz, 'r') as file: \n",
    "            for index, line in enumerate(file):\n",
    "                if index == 0:\n",
    "                    self.num_atoms = line.strip()\n",
    "                elif index == 1:\n",
    "                    pass\n",
    "                else:\n",
    "                    data = line.strip().split()\n",
    "                    if len(data) == 4:\n",
    "                        self.atom_types.append(data[0])\n",
    "                        self.coordinates.append([float(coord) for coord in data[1:]])\n",
    "                    else:\n",
    "                        print('weird line')            \n",
    "\n",
    "\n",
    "        self.coordinates = np.array(self.coordinates) \n",
    "\n",
    "\n",
    "        # the next vectors store the values in the same order of reading to match the order of the atoms\n",
    "        self.buckingham_a = [] # vector used for store the A parameters of each molecule\n",
    "        self.buckingham_b = [] # vector used for store the B parameters of each molecule\n",
    "        self.buckingham_c = [] # vector used for store the C parameters of each molecule\n",
    "        \n",
    "\n",
    "        for atom in self.atom_types:\n",
    "            self.buckingham_a.append(buckingham_parameters[atom]['A'])\n",
    "            self.buckingham_b.append(buckingham_parameters[atom]['B'])\n",
    "            self.buckingham_c.append(buckingham_parameters[atom]['C'])\n",
    "\n",
    "\n",
    "        # the next two are for unique names/values\n",
    "        self.order_types = []\n",
    "        set_types = set()\n",
    "\n",
    "        for type in self.atom_types:\n",
    "            if type not in set_types:\n",
    "                set_types.add(type)\n",
    "                self.order_types.append(type)\n",
    "\n",
    "\n",
    "        self.buckingham_a = np.array(self.buckingham_a)\n",
    "        self.buckingham_b = np.array(self.buckingham_b).astype(float)\n",
    "        self.buckingham_c = np.array(self.buckingham_c)\n",
    "\n",
    "        print(set_types)\n",
    "        print(self.order_types)\n",
    "\n",
    "    def copy (self, point, rotation = None):\n",
    "\n",
    "        '''\n",
    "        Creates a copy of the molecule with a new position and rotation.\n",
    "\n",
    "        Parameters:\n",
    "        point (array-like): The new point to which the center of the molecule will be moved.\n",
    "        rotation (array-like, optional): The Euler angles (in degrees) for the rotation\n",
    "                                         around the 'xyz' axes. Default is [0, 0, 0].\n",
    "\n",
    "        Returns:\n",
    "        Molecule: A new instance of Molecule with the updated coordinates.\n",
    "        '''\n",
    "\n",
    "\n",
    "        if rotation is None:\n",
    "            rotation = [0,0,0]\n",
    "\n",
    "        point = np.array(point)\n",
    "\n",
    "        euler_angles = rotation \n",
    "        r = R.from_euler('xyz', euler_angles, degrees=True)\n",
    "        new_copy = copy.deepcopy(self)\n",
    "\n",
    "        mol_center = np.mean(self.coordinates, axis=0)\n",
    "        translation_vector =  point - mol_center\n",
    "\n",
    "        new_coord  = self.coordinates + translation_vector\n",
    "        rotated_points = r.apply(new_coord)\n",
    "\n",
    "        new_copy.coordinates = rotated_points\n",
    "\n",
    "        return new_copy\n",
    "    \n",
    "    def visual (self):\n",
    "\n",
    "        data_string = self.num_atoms + '\\n\\n'\n",
    "\n",
    "        if len(self.atom_types) == len(self.coordinates): \n",
    "            for i in range(len(self.atom_types)):\n",
    "                name = ''\n",
    "                for char in self.atom_types[i]:\n",
    "                    if char == '(':\n",
    "                        break\n",
    "                    else:\n",
    "                        name += char\n",
    "\n",
    "                data_string += name + ' ' + ' '.join(map(str, self.coordinates[i])) + '\\n'\n",
    "        else:\n",
    "            print(f\"The number of atoms ({len(self.atom_types)}) does not correspond with the number of coordinates ({len(self.coordinates)})\")\n",
    "\n",
    "        viewer = p3d.view(width=600, height=300)\n",
    "        viewer.addModel(data_string, \"xyz\")\n",
    "        viewer.addUnitCell()\n",
    "        # Configurar el estilo de visualización\n",
    "        viewer.setViewStyle({\"style\": \"outline\", \"width\": 0.05})\n",
    "        viewer.setStyle({\"stick\": {}, \"sphere\": {\"scale\": 0.25}})\n",
    "        viewer.zoomTo()\n",
    "        viewer.show()\n",
    "\n"
   ]
  },
  {
   "cell_type": "code",
   "execution_count": 329,
   "metadata": {},
   "outputs": [],
   "source": [
    "class Dimer:\n",
    "    def __init__(self, mol1, mol2):\n",
    "        \n",
    "        self.mol1 = mol1\n",
    "        self.mol2 = mol2\n",
    "\n",
    "        self.dimer_buckingham_params = mol1.buckingham_original_parameters\n",
    "\n",
    "        dimer_set  = set(mol1.order_types)\n",
    "        self.dimer_order_types = list(mol1.order_types)   ## only no repeated type of atoms to know the order\n",
    "        for type in mol2.order_types:\n",
    "            if type not in dimer_set :\n",
    "                self.dimer_order_types.append(type)\n",
    "                dimer_set.add(type)\n",
    "\n",
    "\n",
    "        # this section is to know the order that we are going to follow\n",
    "        # we need a specific arrange in the optimization vector be cause we only\n",
    "        # see numbers bue we need to know if it is A or B or C of nitrogen or carbon or hidrogen\n",
    "        # for this, this diccionary encode the atom name with the index in the vector\n",
    "\n",
    "        dictionary_index = {}\n",
    "        for index, name in enumerate(self.dimer_order_types):\n",
    "            dictionary_index[name] = index\n",
    "        \n",
    "        \n",
    "        # this part is to create the insersion vectors vectors that tell the number where the value goes\n",
    "\n",
    "        # from the initial vector of different atoms lets say [H,C,N] \n",
    "        # we need a,b and c for all this, so we make a vector x3 the length \n",
    "        # and then asign let's say [H_a,C_a,N_a,H_b,C_b,N_b,H_c,C_c,N_c]\n",
    "        # that's why we need the order of the atoms and also how they repeat\n",
    "\n",
    "        jump = len(self.dimer_order_types) # the optimization vector will be this x3 \n",
    "        self.vector_guide_a_mol1 = []\n",
    "        self.vector_guide_b_mol1 = []\n",
    "        self.vector_guide_c_mol1 = []\n",
    "        for atom in mol1.atom_types:\n",
    "            if atom in dictionary_index:\n",
    "              self.vector_guide_a_mol1.append(dictionary_index[atom])\n",
    "              self.vector_guide_b_mol1.append(dictionary_index[atom] + jump)\n",
    "              self.vector_guide_c_mol1.append(dictionary_index[atom] + jump*2)  \n",
    "            else:\n",
    "                (\"atom is not in the dictionary_index\")\n",
    "                break \n",
    "        self.vector_guide_a_mol2 = []\n",
    "        self.vector_guide_b_mol2 = []\n",
    "        self.vector_guide_c_mol2 = []\n",
    "        for atom in mol2.atom_types:\n",
    "            if atom in dictionary_index:\n",
    "              self.vector_guide_a_mol2.append(dictionary_index[atom])\n",
    "              self.vector_guide_b_mol2.append(dictionary_index[atom] + jump)\n",
    "              self.vector_guide_c_mol2.append(dictionary_index[atom] + jump*2)  \n",
    "            else:\n",
    "                (\"atom is not in the dictionary_index\")\n",
    "                break\n",
    "        \n",
    "\n",
    "        #         #             #            #             #            #          #   \n",
    "        # Actual values for the a b and c vectors of the dimer, not for the optimization\n",
    "        #         #          #           #\n",
    "\n",
    "        vec_charges_mol1 = mol1.charges.copy()\n",
    "        vec_charges_mol2 = mol2.charges.copy()\n",
    "        self.dimer_charges = np.outer(vec_charges_mol1, vec_charges_mol2).flatten()\n",
    "\n",
    "        vec_1a = mol1.buckingham_a.copy()\n",
    "        vec_1b = mol1.buckingham_b.copy()\n",
    "        vec_1c = mol1.buckingham_c.copy()\n",
    "\n",
    "        vec_2a = mol2.buckingham_a.copy()\n",
    "        vec_2b = mol2.buckingham_b.copy()\n",
    "        vec_2c = mol2.buckingham_c.copy()\n",
    "\n",
    "        v_12a = (np.outer(vec_1a, vec_2a).flatten())**(0.5)\n",
    "        v_12b = (np.outer(vec_1b, vec_2b).flatten())**(0.5)\n",
    "        v_12c = ((0.5)*(vec_1c[:, np.newaxis] + vec_2c)).flatten()\n",
    "\n",
    "        self.dimer_buckingham_vec_a = v_12a\n",
    "        self.dimer_buckingham_vec_b = v_12b\n",
    "        self.dimer_buckingham_vec_c = v_12c\n",
    "\n",
    "        space_distance = cdist(mol1.coordinates, mol2.coordinates, 'euclidean')\n",
    "        space_distance = np.array(space_distance.flatten())\n",
    "        self.dimer_distances = space_distance.copy()\n",
    "\n",
    "\n",
    "    def exp_energy(self):\n",
    "        energy = 0\n",
    "        for i in range(len(self.dimer_buckingham_vec_b)):\n",
    "            energy += self.dimer_buckingham_vec_b[i] * np.exp(-self.dimer_buckingham_vec_c[i] * self.dimer_distances[i])\n",
    "        return energy \n",
    "        \n",
    "        \n",
    "    def disp_energy(self):\n",
    "        energy = 0\n",
    "        for i in range(len(self.dimer_buckingham_vec_a)):\n",
    "            energy += self.dimer_buckingham_vec_a[i] / (self.dimer_distances[i]**6)\n",
    "        return -energy\n",
    "\n",
    "\n",
    "    def elst_energy(self):\n",
    "        energy = 0\n",
    "        for i in range(len(self.dimer_charges)):\n",
    "            energy += self.dimer_charges[i] / (self.dimer_distances[i]*angstrom_to_bohr) \n",
    "        return energy * hartree_to_kJ\n",
    "\n",
    "\n",
    "    def total_energy(self):\n",
    "        return self.exp_energy() + self.disp_energy() + self.elst_energy() \n",
    "\n",
    "\n",
    "\n",
    "    def visual (self): ##### this is the original for one molecule, change it. \n",
    "            \n",
    "\n",
    "        data_string = str(int(self.mol1.num_atoms) + int(self.mol2.num_atoms)) + '\\n\\n'\n",
    "\n",
    "        if len(self.mol1.atom_types) + len(self.mol2.atom_types) == len(self.mol1.coordinates) + len(self.mol2.coordinates): \n",
    "            for i in range(len(self.mol1.atom_types)): #####\n",
    "                name = ''\n",
    "                for char in self.mol1.atom_types[i]:\n",
    "                    if char == '(':\n",
    "                        break\n",
    "                    else:\n",
    "                        name += char\n",
    "\n",
    "                data_string += name + ' ' + ' '.join(map(str, self.mol1.coordinates[i])) + '\\n'\n",
    "            for i in range(len(self.mol2.atom_types)): #####\n",
    "                name = ''\n",
    "                for char in self.mol2.atom_types[i]:\n",
    "                    if char == '(':\n",
    "                        break\n",
    "                    else:\n",
    "                        name += char\n",
    "\n",
    "                data_string += name + ' ' + ' '.join(map(str, self.mol2.coordinates[i])) + '\\n'    \n",
    "        else:\n",
    "            print(f\"The number of atoms ({len(self.atom_types)}) does not correspond with the number of coordinates ({len(self.coordinates)})\")\n",
    "\n",
    "        viewer = p3d.view(width=600, height=300)\n",
    "        viewer.addModel(data_string, \"xyz\")\n",
    "        viewer.addUnitCell()\n",
    "        # Configurar el estilo de visualización\n",
    "        viewer.setViewStyle({\"style\": \"outline\", \"width\": 0.05})\n",
    "        viewer.setStyle({\"stick\": {}, \"sphere\": {\"scale\": 0.25}})\n",
    "        viewer.zoomTo()\n",
    "        viewer.show()\n",
    "\n",
    "        print(f'calculated energy: {self.total_energy()} ')\n",
    "    \n",
    "\n"
   ]
  },
  {
   "cell_type": "code",
   "execution_count": 330,
   "metadata": {},
   "outputs": [],
   "source": [
    "class EnergyOptimize:\n",
    "    def __init__(self, dimer_set, energies, disp_energies = None, exp_energies = None):\n",
    "\n",
    "        if len(dimer_set) != len(energies):\n",
    "            print(\"something is wrong please check\")\n",
    "        \n",
    "        self.threshold = .10\n",
    "        self.penalty_weigth = 1000\n",
    "        self.original_parameters = dimer_set[0].dimer_buckingham_params\n",
    "        self.order_atoms = dimer_set[0].dimer_order_types\n",
    "        self.dimers = dimer_set\n",
    "        self.energies = energies\n",
    "\n",
    "        if disp_energies is not None:\n",
    "            self.disp_energies = disp_energies\n",
    "\n",
    "        if exp_energies is not None:\n",
    "            self.exp_energies = exp_energies\n",
    "\n",
    "\n",
    "        self.distances = []  # This will store the distances matrices\n",
    "        self.charges = []  # This will store the charges matrices\n",
    "\n",
    "        for dimer in dimer_set:\n",
    "            self.distances.append(dimer.dimer_distances)\n",
    "            self.charges.append(dimer.dimer_charges)\n",
    "\n",
    "    \n",
    "    def dimer_set_optimize_total(self, solution):\n",
    "\n",
    "        # recordar que aqui solo ocupo tomar uno del dimer set pues todos deben tener la misma config abc\n",
    "        vector_mol1_a = []\n",
    "        vector_mol1_b = []\n",
    "        vector_mol1_c = []\n",
    "        \n",
    "        for value in self.dimers[0].vector_guide_a_mol1:\n",
    "            vector_mol1_a.append(solution[value])\n",
    "        for value in self.dimers[0].vector_guide_b_mol1:\n",
    "            vector_mol1_b.append(solution[value])\n",
    "        for value in self.dimers[0].vector_guide_c_mol1:\n",
    "            vector_mol1_c.append(solution[value])\n",
    "\n",
    "        vector_mol2_a = []\n",
    "        vector_mol2_b = []\n",
    "        vector_mol2_c = []\n",
    "        for value in self.dimers[0].vector_guide_a_mol2:\n",
    "            vector_mol2_a.append(solution[value])\n",
    "        for value in self.dimers[0].vector_guide_b_mol2:\n",
    "            vector_mol2_b.append(solution[value])\n",
    "        for value in self.dimers[0].vector_guide_c_mol2:\n",
    "            vector_mol2_c.append(solution[value])\n",
    "\n",
    "        vector_mol2_a = np.array(vector_mol2_a)\n",
    "        vector_mol2_b = np.array(vector_mol2_b)\n",
    "        vector_mol2_c = np.array(vector_mol2_c)\n",
    "\n",
    "        vector_mol1_a = np.array(vector_mol1_a)\n",
    "        vector_mol1_b = np.array(vector_mol1_b)\n",
    "        vector_mol1_c = np.array(vector_mol1_c)\n",
    "\n",
    "        v_12a = (np.outer(np.array(vector_mol1_a), np.array(vector_mol2_a)).flatten())**(0.5)\n",
    "        v_12b = (np.outer(np.array(vector_mol1_b), np.array(vector_mol2_b)).flatten())**(0.5)\n",
    "        v_12c = ((0.5)*(np.array(vector_mol1_c[:, np.newaxis]) + np.array(vector_mol2_c))).flatten()\n",
    "\n",
    "        self.dimer_set_vec_a = np.array(list(v_12a)) \n",
    "        self.dimer_set_vec_b = np.array(list(v_12b)) \n",
    "        self.dimer_set_vec_c = np.array(list(v_12c))  \n",
    "\n",
    "        if len(self.dimer_set_vec_a) != len(self.dimer_set_vec_b) or len(self.dimer_set_vec_a) != len(self.dimer_set_vec_c):\n",
    "            raise ValueError('The number of elements in vector a, b, and c are not the same.')\n",
    "\n",
    "        # lets note that even when it is necessary iterate over a matrix only for the distances\n",
    "        # could be a good idea to do a matrix for charges even if all the values all the same to the code\n",
    "        # will be easier to read, but for the abc vectors is not necessary be cause the vector is not always\n",
    "        # the same. \n",
    "\n",
    "        self.calculated_energies = []\n",
    "        \n",
    "        for i in range(len(self.energies)):\n",
    "            sum_energy = 0 \n",
    "            if len(self.distances[i]) == len(self.dimer_set_vec_a):\n",
    "                for j in range(len(self.distances[i])):  \n",
    "                    exp = self.dimer_set_vec_b[j] * np.exp(-self.dimer_set_vec_c[j] * self.distances[i][j])\n",
    "                    disp = self.dimer_set_vec_a[j] / (self.distances[i][j]**6)   \n",
    "                    elst = self.charges[i][j] / (self.distances[i][j]*angstrom_to_bohr)            \n",
    "                    sum_energy += exp - disp + elst*hartree_to_kJ\n",
    "                self.calculated_energies.append(sum_energy)\n",
    "            else:\n",
    "                print('dimentions are not the same')\n",
    "        \n",
    "\n",
    "        self.calculated_energies = np.array(self.calculated_energies)\n",
    "        self.energies = np.array(self.energies) \n",
    "\n",
    "        differences = self.calculated_energies - self.energies\n",
    "\n",
    "\n",
    "        #### Falta agregar aqui que los parametros solo pueden cambiar un poco\n",
    "\n",
    "        # for penalization function\n",
    "\n",
    "        original_buckingham_parameters_vector = []\n",
    "\n",
    "        for type in self.order_atoms:\n",
    "            original_buckingham_parameters_vector.append(self.original_parameters[type]['A'])\n",
    "\n",
    "        for type in self.order_atoms:\n",
    "            original_buckingham_parameters_vector.append(self.original_parameters[type]['B'])\n",
    "    \n",
    "        for type in self.order_atoms:\n",
    "            original_buckingham_parameters_vector.append(self.original_parameters[type]['C'])\n",
    "\n",
    "\n",
    "        ################################ poner todavia la penalizacion\n",
    "\n",
    "        penalty = []\n",
    "        for i in range(len(solution)):\n",
    "            if original_buckingham_parameters_vector[i] == 0.00 :\n",
    "                penalty.append(original_buckingham_parameters_vector[i])\n",
    "            else: \n",
    "                percentage =  np.abs((original_buckingham_parameters_vector[i] - solution[i])/(original_buckingham_parameters_vector[i]))\n",
    "                if percentage > self.threshold :\n",
    "                    penalty.append(percentage*self.penalty_weigth) # this part is useful to give more weigth to the penalty part\n",
    "                else: \n",
    "                    penalty.append(0)\n",
    "\n",
    "        differences_final = np.hstack((np.array(differences), np.array(penalty)))\n",
    "\n",
    "\n",
    "        return np.sum(differences_final**2)\n",
    "    \n",
    "    # exponential term needs b and c\n",
    "    def dimer_set_optimize_exp(self, solution_exp):\n",
    "\n",
    "        vector_mol1_b = []\n",
    "        vector_mol1_c = []\n",
    "\n",
    "        for value in self.dimers[0].vector_guide_a_mol1:\n",
    "            vector_mol1_b.append(solution_exp[value])\n",
    "\n",
    "        for value in self.dimers[0].vector_guide_b_mol1:\n",
    "            vector_mol1_c.append(solution_exp[value])\n",
    "\n",
    "        vector_mol2_b = []\n",
    "        vector_mol2_c = []\n",
    "\n",
    "        for value in self.dimers[0].vector_guide_a_mol2:\n",
    "            vector_mol2_b.append(solution_exp[value])\n",
    "\n",
    "        for value in self.dimers[0].vector_guide_b_mol2:\n",
    "            vector_mol2_c.append(solution_exp[value])\n",
    "\n",
    "        vector_mol1_b = np.array(vector_mol1_b )\n",
    "        vector_mol1_c = np.array(vector_mol1_c)\n",
    "        vector_mol2_b = np.array(vector_mol2_b)\n",
    "        vector_mol2_c = np.array(vector_mol2_c)\n",
    "        \n",
    "\n",
    "        v_12b = (np.outer(np.array(vector_mol1_b), np.array(vector_mol2_b)).flatten())**(0.5)\n",
    "        v_12c = ((0.5)*(np.array(vector_mol1_c[:, np.newaxis]) + np.array(vector_mol2_c))).flatten()\n",
    "\n",
    "        self.dimer_set_vec_b = np.array(list(v_12b)) \n",
    "        self.dimer_set_vec_c = np.array(list(v_12c))\n",
    "\n",
    "        self.calculated_energies_exp = []\n",
    "\n",
    "        for i in range(len(self.exp_energies)):\n",
    "            sum_energy = 0 \n",
    "            if len(self.distances[i]) == len(self.dimer_set_vec_b):\n",
    "                for j in range(len(self.distances[i])):  \n",
    "                    exp = self.dimer_set_vec_b[j] * np.exp(-self.dimer_set_vec_c[j] * self.distances[i][j])           \n",
    "                    sum_energy += exp\n",
    "                self.calculated_energies_exp.append(sum_energy)\n",
    "            else:\n",
    "                print('dimentions are not the same')\n",
    "\n",
    "\n",
    "        self.calculated_energies_exp = np.array(self.calculated_energies_exp)\n",
    "        self.exp_energies = np.array(self.exp_energies)\n",
    "\n",
    "        differences = self.exp_energies - self.calculated_energies_exp \n",
    "\n",
    "        #### falta poner esto de calcular las diferencias con el otro metodo que es el total\n",
    "\n",
    "        ### for penalization \n",
    "\n",
    "        # original_buckingham_parameters_vector = []\n",
    "\n",
    "        # for type in self.order_atoms:\n",
    "        #     original_buckingham_parameters_vector.append(self.original_parameters[type]['B'])\n",
    "    \n",
    "        # for type in self.order_atoms:\n",
    "        #     original_buckingham_parameters_vector.append(self.original_parameters[type]['C'])\n",
    "\n",
    "\n",
    "        # penalty = []\n",
    "        # for i in range(len(solution_exp)):\n",
    "        #     if original_buckingham_parameters_vector[i] == 0.00 :\n",
    "        #         penalty.append(original_buckingham_parameters_vector[i])\n",
    "        #     else: \n",
    "        #         percentage =  np.abs((original_buckingham_parameters_vector[i] - solution_exp[i])/(original_buckingham_parameters_vector[i]))\n",
    "        #         if percentage > self.threshold :\n",
    "        #             penalty.append(percentage*self.penalty_weigth) # this part is useful to give more weigth to the penalty part\n",
    "        #         else: \n",
    "        #             penalty.append(0)\n",
    "\n",
    "        # differences_final = np.hstack((np.array(differences), np.array(penalty)))\n",
    "\n",
    "        differences_final = np.array(differences)\n",
    "        \n",
    "        return np.sum(differences_final**2)       \n",
    "\n",
    "            \n",
    "    def dimer_set_optimize_disp(self, solution_disp):\n",
    "\n",
    "        vector_mol1_a = []\n",
    "        vector_mol2_a = []  \n",
    "\n",
    "        for value in self.dimers[0].vector_guide_a_mol1:\n",
    "            vector_mol1_a.append(solution_disp[value])\n",
    "\n",
    "        for value in self.dimers[0].vector_guide_a_mol2:\n",
    "            vector_mol2_a.append(solution_disp[value])\n",
    "\n",
    "        v_12a = (np.outer(np.array(vector_mol1_a), np.array(vector_mol2_a)).flatten())**(0.5)\n",
    "\n",
    "        self.dimer_set_vec_a = np.array(list(v_12a))\n",
    "\n",
    "        self.calculated_energies_disp = []\n",
    "\n",
    "        for i in range(len(self.disp_energies)):\n",
    "            sum_energy = 0 \n",
    "            if len(self.distances[i]) == len(self.dimer_set_vec_a):\n",
    "                for j in range(len(self.distances[i])):  \n",
    "                    disp = self.dimer_set_vec_a[j] / (self.distances[i][j]**6)           \n",
    "                    sum_energy += - disp\n",
    "                self.calculated_energies_disp.append(sum_energy)\n",
    "            else:\n",
    "                print('dimentions are not the same')\n",
    "\n",
    "        self.disp_energies = np.array(self.disp_energies)\n",
    "        self.calculated_energies_disp =  np.array(self.calculated_energies_disp)\n",
    "\n",
    "        differences = self.calculated_energies_disp - self.disp_energies\n",
    "\n",
    "        # for penalization function\n",
    "\n",
    "        # original_buckingham_parameters_vector = []\n",
    "\n",
    "        # for type in self.order_atoms:\n",
    "        #     original_buckingham_parameters_vector.append(self.original_parameters[type]['A'])\n",
    "\n",
    "        # penalty = []\n",
    "        # self.threshold = .10\n",
    "        # self.penalty_weigth = 1000\n",
    "        # for i in range(len(solution_disp)):\n",
    "        #     if original_buckingham_parameters_vector[i] == 0.00 :\n",
    "        #         penalty.append(original_buckingham_parameters_vector[i])\n",
    "        #     else: \n",
    "        #         percentage =  np.abs((original_buckingham_parameters_vector[i] - solution_disp[i])/(original_buckingham_parameters_vector[i]))\n",
    "        #         if percentage > self.threshold :\n",
    "        #             penalty.append(percentage*self.penalty_weigth) # this part is useful to give more weigth to the penalty part\n",
    "        #         else: \n",
    "        #             penalty.append(0)\n",
    "\n",
    "        # differences_final = np.hstack((np.array(differences), np.array(penalty)))\n",
    "\n",
    "        differences_final = np.array(differences)\n",
    "        \n",
    "        return np.sum(differences_final**2)   \n",
    "\n",
    "        \n",
    "\n",
    "        "
   ]
  },
  {
   "cell_type": "markdown",
   "metadata": {},
   "source": [
    "# dimers creation"
   ]
  },
  {
   "cell_type": "markdown",
   "metadata": {},
   "source": [
    "### Charges"
   ]
  },
  {
   "cell_type": "code",
   "execution_count": 205,
   "metadata": {},
   "outputs": [],
   "source": [
    "chn_charges = np.load(r'C:\\Users\\migue\\OneDrive\\Desktop\\QM_Project\\for_molecules\\charges\\chn_charges.npy')\n",
    "pf6_charges = np.load(r'C:\\Users\\migue\\OneDrive\\Desktop\\QM_Project\\for_molecules\\charges\\pf6_charges.npy')"
   ]
  },
  {
   "cell_type": "markdown",
   "metadata": {},
   "source": [
    "### chn-chn "
   ]
  },
  {
   "cell_type": "code",
   "execution_count": 211,
   "metadata": {},
   "outputs": [
    {
     "name": "stdout",
     "output_type": "stream",
     "text": [
      "['esapt', 'eind', 'edisp', 'eelst', 'eexch']\n"
     ]
    }
   ],
   "source": [
    "chn_chn_energies = np.load(r'C:\\Users\\migue\\OneDrive\\Desktop\\QM_Project\\for_molecules\\chn_chn\\quin_quin_energies_sapt2.npz')\n",
    "print(list(chn_chn_energies.keys()))"
   ]
  },
  {
   "cell_type": "code",
   "execution_count": 217,
   "metadata": {},
   "outputs": [],
   "source": [
    "chn_chn_total_energy = []\n",
    "chn_chn_ind_energy = []\n",
    "chn_chn_disp_energy = []\n",
    "chn_chn_elst_energy = []\n",
    "chn_chn_exch_energy = []\n",
    "\n",
    "for value in chn_chn_energies['esapt']:\n",
    "    chn_chn_total_energy.append(value*kcal_to_kJ)\n",
    "\n",
    "for value in chn_chn_energies['eind']:\n",
    "    chn_chn_ind_energy.append(value*kcal_to_kJ)\n",
    "\n",
    "for value in chn_chn_energies['edisp']:\n",
    "    chn_chn_disp_energy.append(value*kcal_to_kJ)\n",
    "\n",
    "for value in chn_chn_energies['eelst']:\n",
    "    chn_chn_elst_energy.append(value*kcal_to_kJ)\n",
    "\n",
    "for value in chn_chn_energies['eexch']:\n",
    "    chn_chn_exch_energy.append(value*kcal_to_kJ)\n"
   ]
  },
  {
   "cell_type": "code",
   "execution_count": 334,
   "metadata": {},
   "outputs": [],
   "source": [
    "chn_file = r'C:\\Users\\migue\\OneDrive\\Desktop\\QM_Project\\for_molecules\\chn_chn\\chn_centered.xyz'\n",
    "chn_chn_configurations = np.load(r'C:\\Users\\migue\\OneDrive\\Desktop\\QM_Project\\for_molecules\\chn_chn\\chn_chn_config.npy')"
   ]
  },
  {
   "cell_type": "code",
   "execution_count": 335,
   "metadata": {},
   "outputs": [
    {
     "name": "stdout",
     "output_type": "stream",
     "text": [
      "weird line\n",
      "{'C(4)', 'H(1)', 'N(3)', 'H(4)'}\n",
      "['C(4)', 'H(4)', 'H(1)', 'N(3)']\n"
     ]
    }
   ],
   "source": [
    "chn_origin = MolBuckingham(chn_file, chn_charges)"
   ]
  },
  {
   "cell_type": "code",
   "execution_count": 220,
   "metadata": {},
   "outputs": [],
   "source": [
    "chn_molecules_set = []\n",
    "for i in range(len(chn_chn_configurations)):\n",
    "    molecule = chn_origin.copy([0,0,0])\n",
    "    molecule.coordinates = chn_chn_configurations[i]\n",
    "    chn_molecules_set.append(molecule)"
   ]
  },
  {
   "cell_type": "code",
   "execution_count": 221,
   "metadata": {},
   "outputs": [],
   "source": [
    "chn_chn_dimer_set = []\n",
    "for i in range(len(chn_molecules_set)):\n",
    "    dimer = Dimer(chn_origin, chn_molecules_set[i])\n",
    "    chn_chn_dimer_set.append(dimer)"
   ]
  },
  {
   "cell_type": "code",
   "execution_count": 224,
   "metadata": {},
   "outputs": [
    {
     "data": {
      "application/3dmoljs_load.v0": "<div id=\"3dmolviewer_1718337910001618\"  style=\"position: relative; width: 600px; height: 300px;\">\n        <p id=\"3dmolwarning_1718337910001618\" style=\"background-color:#ffcccc;color:black\">3Dmol.js failed to load for some reason.  Please check your browser console for error messages.<br></p>\n        </div>\n<script>\n\nvar loadScriptAsync = function(uri){\n  return new Promise((resolve, reject) => {\n    //this is to ignore the existence of requirejs amd\n    var savedexports, savedmodule;\n    if (typeof exports !== 'undefined') savedexports = exports;\n    else exports = {}\n    if (typeof module !== 'undefined') savedmodule = module;\n    else module = {}\n\n    var tag = document.createElement('script');\n    tag.src = uri;\n    tag.async = true;\n    tag.onload = () => {\n        exports = savedexports;\n        module = savedmodule;\n        resolve();\n    };\n  var firstScriptTag = document.getElementsByTagName('script')[0];\n  firstScriptTag.parentNode.insertBefore(tag, firstScriptTag);\n});\n};\n\nif(typeof $3Dmolpromise === 'undefined') {\n$3Dmolpromise = null;\n  $3Dmolpromise = loadScriptAsync('https://cdnjs.cloudflare.com/ajax/libs/3Dmol/2.1.0/3Dmol-min.js');\n}\n\nvar viewer_1718337910001618 = null;\nvar warn = document.getElementById(\"3dmolwarning_1718337910001618\");\nif(warn) {\n    warn.parentNode.removeChild(warn);\n}\n$3Dmolpromise.then(function() {\nviewer_1718337910001618 = $3Dmol.createViewer(document.getElementById(\"3dmolviewer_1718337910001618\"),{backgroundColor:\"white\"});\nviewer_1718337910001618.zoomTo();\n\tviewer_1718337910001618.addModel(\"44\\n\\nC 0.0482318 0.0 1.29854\\nC 0.771572 -1.24836 0.73279\\nC 0.771572 1.24836 0.73279\\nC -1.43595 0.0 -0.70655\\nC 0.683272 -1.24567 -0.76739\\nC 0.683272 1.24567 -0.76739\\nC -1.40934 0.0 0.78001\\nH -0.0827182 1e-06 -2.22938\\nH 0.0701018 -1e-06 2.29838\\nH 1.72063 -1.24122 1.01304\\nH 1.72063 1.24122 1.01304\\nH 0.349342 -2.0698 1.09097\\nH 0.349342 2.0698 1.09097\\nH -1.94519 0.80829 -1.08795\\nH -1.94519 -0.80829 -1.08795\\nH 0.200462 -2.05221 -1.0769\\nH 0.200462 2.05221 -1.0769\\nH 1.5942 -1.26188 -1.15623\\nH 1.5942 1.26188 -1.15623\\nH -1.94519 -0.88912 1.14598\\nH -1.94519 0.88912 1.14598\\nN -0.0485382 0.0 -1.22961\\nC -6.04823341 -0.0 1.29853655\\nC -6.77157441 1.248359 0.73279055\\nC -6.77157441 -1.248359 0.73279055\\nC -4.56405441 0.0 -0.70654845\\nC -6.68327341 1.245665 -0.76739145\\nC -6.68327341 -1.245665 -0.76739145\\nC -4.59066541 -0.0 0.78001155\\nH -5.91728241 -9e-06 -2.22937745\\nH -6.07010241 9e-06 2.29838155\\nH -7.72062641 1.241219 1.01303855\\nH -7.72062641 -1.241219 1.01303855\\nH -6.34933941 2.069797 1.09097155\\nH -6.34933941 -2.069797 1.09097155\\nH -4.05481241 -0.80829 -1.08795045\\nH -4.05481241 0.80829 -1.08795045\\nH -6.20046141 2.052212 -1.07689845\\nH -6.20046141 -2.052212 -1.07689845\\nH -7.59419841 1.261884 -1.15623045\\nH -7.59419841 -1.261884 -1.15623045\\nH -4.05481241 0.889119 1.14597555\\nH -4.05481241 -0.889119 1.14597555\\nN -5.95146541 0.0 -1.22961445\\n\",\"xyz\");\n\tviewer_1718337910001618.addUnitCell();\n\tviewer_1718337910001618.setViewStyle({\"style\": \"outline\", \"width\": 0.05});\n\tviewer_1718337910001618.setStyle({\"stick\": {}, \"sphere\": {\"scale\": 0.25}});\n\tviewer_1718337910001618.zoomTo();\nviewer_1718337910001618.render();\n});\n</script>",
      "text/html": [
       "<div id=\"3dmolviewer_1718337910001618\"  style=\"position: relative; width: 600px; height: 300px;\">\n",
       "        <p id=\"3dmolwarning_1718337910001618\" style=\"background-color:#ffcccc;color:black\">3Dmol.js failed to load for some reason.  Please check your browser console for error messages.<br></p>\n",
       "        </div>\n",
       "<script>\n",
       "\n",
       "var loadScriptAsync = function(uri){\n",
       "  return new Promise((resolve, reject) => {\n",
       "    //this is to ignore the existence of requirejs amd\n",
       "    var savedexports, savedmodule;\n",
       "    if (typeof exports !== 'undefined') savedexports = exports;\n",
       "    else exports = {}\n",
       "    if (typeof module !== 'undefined') savedmodule = module;\n",
       "    else module = {}\n",
       "\n",
       "    var tag = document.createElement('script');\n",
       "    tag.src = uri;\n",
       "    tag.async = true;\n",
       "    tag.onload = () => {\n",
       "        exports = savedexports;\n",
       "        module = savedmodule;\n",
       "        resolve();\n",
       "    };\n",
       "  var firstScriptTag = document.getElementsByTagName('script')[0];\n",
       "  firstScriptTag.parentNode.insertBefore(tag, firstScriptTag);\n",
       "});\n",
       "};\n",
       "\n",
       "if(typeof $3Dmolpromise === 'undefined') {\n",
       "$3Dmolpromise = null;\n",
       "  $3Dmolpromise = loadScriptAsync('https://cdnjs.cloudflare.com/ajax/libs/3Dmol/2.1.0/3Dmol-min.js');\n",
       "}\n",
       "\n",
       "var viewer_1718337910001618 = null;\n",
       "var warn = document.getElementById(\"3dmolwarning_1718337910001618\");\n",
       "if(warn) {\n",
       "    warn.parentNode.removeChild(warn);\n",
       "}\n",
       "$3Dmolpromise.then(function() {\n",
       "viewer_1718337910001618 = $3Dmol.createViewer(document.getElementById(\"3dmolviewer_1718337910001618\"),{backgroundColor:\"white\"});\n",
       "viewer_1718337910001618.zoomTo();\n",
       "\tviewer_1718337910001618.addModel(\"44\\n\\nC 0.0482318 0.0 1.29854\\nC 0.771572 -1.24836 0.73279\\nC 0.771572 1.24836 0.73279\\nC -1.43595 0.0 -0.70655\\nC 0.683272 -1.24567 -0.76739\\nC 0.683272 1.24567 -0.76739\\nC -1.40934 0.0 0.78001\\nH -0.0827182 1e-06 -2.22938\\nH 0.0701018 -1e-06 2.29838\\nH 1.72063 -1.24122 1.01304\\nH 1.72063 1.24122 1.01304\\nH 0.349342 -2.0698 1.09097\\nH 0.349342 2.0698 1.09097\\nH -1.94519 0.80829 -1.08795\\nH -1.94519 -0.80829 -1.08795\\nH 0.200462 -2.05221 -1.0769\\nH 0.200462 2.05221 -1.0769\\nH 1.5942 -1.26188 -1.15623\\nH 1.5942 1.26188 -1.15623\\nH -1.94519 -0.88912 1.14598\\nH -1.94519 0.88912 1.14598\\nN -0.0485382 0.0 -1.22961\\nC -6.04823341 -0.0 1.29853655\\nC -6.77157441 1.248359 0.73279055\\nC -6.77157441 -1.248359 0.73279055\\nC -4.56405441 0.0 -0.70654845\\nC -6.68327341 1.245665 -0.76739145\\nC -6.68327341 -1.245665 -0.76739145\\nC -4.59066541 -0.0 0.78001155\\nH -5.91728241 -9e-06 -2.22937745\\nH -6.07010241 9e-06 2.29838155\\nH -7.72062641 1.241219 1.01303855\\nH -7.72062641 -1.241219 1.01303855\\nH -6.34933941 2.069797 1.09097155\\nH -6.34933941 -2.069797 1.09097155\\nH -4.05481241 -0.80829 -1.08795045\\nH -4.05481241 0.80829 -1.08795045\\nH -6.20046141 2.052212 -1.07689845\\nH -6.20046141 -2.052212 -1.07689845\\nH -7.59419841 1.261884 -1.15623045\\nH -7.59419841 -1.261884 -1.15623045\\nH -4.05481241 0.889119 1.14597555\\nH -4.05481241 -0.889119 1.14597555\\nN -5.95146541 0.0 -1.22961445\\n\",\"xyz\");\n",
       "\tviewer_1718337910001618.addUnitCell();\n",
       "\tviewer_1718337910001618.setViewStyle({\"style\": \"outline\", \"width\": 0.05});\n",
       "\tviewer_1718337910001618.setStyle({\"stick\": {}, \"sphere\": {\"scale\": 0.25}});\n",
       "\tviewer_1718337910001618.zoomTo();\n",
       "viewer_1718337910001618.render();\n",
       "});\n",
       "</script>"
      ]
     },
     "metadata": {},
     "output_type": "display_data"
    },
    {
     "name": "stdout",
     "output_type": "stream",
     "text": [
      "calculated energy: 244.73147437365722 \n",
      "sapt2 energy: 223.78084783292329\n"
     ]
    }
   ],
   "source": [
    "dimer_num = 6\n",
    "chn_chn_dimer_set[dimer_num].visual()\n",
    "print(f'sapt2 energy: {chn_chn_total_energy[dimer_num]}')"
   ]
  },
  {
   "cell_type": "markdown",
   "metadata": {},
   "source": [
    "## pf6_chn "
   ]
  },
  {
   "cell_type": "markdown",
   "metadata": {},
   "source": [
    "#### energies pf6_chn"
   ]
  },
  {
   "cell_type": "code",
   "execution_count": 336,
   "metadata": {},
   "outputs": [
    {
     "name": "stdout",
     "output_type": "stream",
     "text": [
      "['esapt', 'eind', 'edisp', 'eelst', 'eexch']\n"
     ]
    }
   ],
   "source": [
    "pf6_chn_spherical_energies = np.load(r'C:\\Users\\migue\\OneDrive\\Desktop\\QM_Project\\for_molecules\\pf6_chn_sphere\\energies\\pf6_quin_energy_spherical.npz')\n",
    "pf6_chn_180_1_energies = np.load(r'C:\\Users\\migue\\OneDrive\\Desktop\\QM_Project\\for_molecules\\pf6_chn_180\\energies\\quin_pf6_180_1.npz')\n",
    "pf6_chn_180_2_energies = np.load(r'C:\\Users\\migue\\OneDrive\\Desktop\\QM_Project\\for_molecules\\pf6_chn_180\\energies\\quin_fp6_180_2.npz')\n",
    "pf6_chn_180_3_energies = np.load(r'C:\\Users\\migue\\OneDrive\\Desktop\\QM_Project\\for_molecules\\pf6_chn_180\\energies\\quin_pf6_180_3.npz')\n",
    "print(list(pf6_chn_180_1_energies.keys()))"
   ]
  },
  {
   "cell_type": "code",
   "execution_count": 337,
   "metadata": {},
   "outputs": [],
   "source": [
    "pf6_chn_total_energy = []\n",
    "pf6_chn_ind_energy = []\n",
    "pf6_chn_disp_energy = []\n",
    "pf6_chn_elst_energy = []\n",
    "pf6_chn_exch_energy = []\n",
    "\n",
    "for value in pf6_chn_spherical_energies['esapt']:\n",
    "    pf6_chn_total_energy.append(value*kcal_to_kJ)\n",
    "for value in pf6_chn_180_1_energies['esapt']:\n",
    "    pf6_chn_total_energy.append(value*hartree_to_kJ)\n",
    "for value in pf6_chn_180_2_energies['esapt']:\n",
    "    pf6_chn_total_energy.append(value*hartree_to_kJ)\n",
    "for value in pf6_chn_180_3_energies['esapt']:\n",
    "    pf6_chn_total_energy.append(value*hartree_to_kJ)\n",
    "\n",
    "for value in pf6_chn_spherical_energies['eind']:\n",
    "    pf6_chn_ind_energy.append(value*kcal_to_kJ)\n",
    "for value in pf6_chn_180_1_energies['eind']:\n",
    "    pf6_chn_ind_energy.append(value*hartree_to_kJ)\n",
    "for value in pf6_chn_180_2_energies['eind']:\n",
    "    pf6_chn_ind_energy.append(value*hartree_to_kJ)\n",
    "for value in pf6_chn_180_3_energies['eind']:\n",
    "    pf6_chn_ind_energy.append(value*hartree_to_kJ)\n",
    "\n",
    "for value in pf6_chn_spherical_energies['edisp']:\n",
    "    pf6_chn_disp_energy.append(value*kcal_to_kJ)\n",
    "for value in pf6_chn_180_1_energies['edisp']:\n",
    "    pf6_chn_disp_energy.append(value*hartree_to_kJ)\n",
    "for value in pf6_chn_180_2_energies['edisp']:\n",
    "    pf6_chn_disp_energy.append(value*hartree_to_kJ)\n",
    "for value in pf6_chn_180_3_energies['edisp']:\n",
    "    pf6_chn_disp_energy.append(value*hartree_to_kJ)\n",
    "\n",
    "for value in pf6_chn_spherical_energies['eelst']:\n",
    "    pf6_chn_elst_energy.append(value*kcal_to_kJ)\n",
    "for value in pf6_chn_180_1_energies['eelst']:\n",
    "    pf6_chn_elst_energy.append(value*hartree_to_kJ)\n",
    "for value in pf6_chn_180_2_energies['eelst']:\n",
    "    pf6_chn_elst_energy.append(value*hartree_to_kJ)\n",
    "for value in pf6_chn_180_3_energies['eelst']:\n",
    "    pf6_chn_elst_energy.append(value*hartree_to_kJ)\n",
    "\n",
    "for value in pf6_chn_spherical_energies['eexch']:\n",
    "    pf6_chn_exch_energy.append(value*kcal_to_kJ)\n",
    "for value in pf6_chn_180_1_energies['eexch']:\n",
    "    pf6_chn_exch_energy.append(value*hartree_to_kJ)\n",
    "for value in pf6_chn_180_2_energies['eexch']:\n",
    "    pf6_chn_exch_energy.append(value*hartree_to_kJ)\n",
    "for value in pf6_chn_180_3_energies['eexch']:\n",
    "    pf6_chn_exch_energy.append(value*hartree_to_kJ)"
   ]
  },
  {
   "cell_type": "markdown",
   "metadata": {},
   "source": [
    "#### spherical"
   ]
  },
  {
   "cell_type": "code",
   "execution_count": 338,
   "metadata": {},
   "outputs": [],
   "source": [
    "pf6_file = r'C:\\Users\\migue\\OneDrive\\Desktop\\QM_Project\\for_molecules\\pf6_chn_sphere\\PF6_centered.xyz'\n",
    "pf6_chn_configurations_sphere = np.load(r'C:\\Users\\migue\\OneDrive\\Desktop\\QM_Project\\for_molecules\\pf6_chn_sphere\\pf6_chn_sphere_config.npy')"
   ]
  },
  {
   "cell_type": "code",
   "execution_count": 339,
   "metadata": {},
   "outputs": [
    {
     "name": "stdout",
     "output_type": "stream",
     "text": [
      "{'P', 'F'}\n",
      "['F', 'P']\n"
     ]
    }
   ],
   "source": [
    "pf6_origin = MolBuckingham(pf6_file, pf6_charges)"
   ]
  },
  {
   "cell_type": "code",
   "execution_count": 340,
   "metadata": {},
   "outputs": [],
   "source": [
    "chn_to_pf6_sphere_set = []\n",
    "for i in range(len(pf6_chn_configurations_sphere)):\n",
    "    molecule = chn_origin.copy([0,0,0])\n",
    "    molecule.coordinates = pf6_chn_configurations_sphere[i]\n",
    "    chn_to_pf6_sphere_set.append(molecule)"
   ]
  },
  {
   "cell_type": "code",
   "execution_count": 341,
   "metadata": {},
   "outputs": [],
   "source": [
    "pf6_chn_dimer_set = []\n",
    "for i in range(len(chn_to_pf6_sphere_set)):\n",
    "    dimer = Dimer(pf6_origin, chn_to_pf6_sphere_set[i])\n",
    "    pf6_chn_dimer_set.append(dimer)"
   ]
  },
  {
   "cell_type": "markdown",
   "metadata": {},
   "source": [
    "#### second batch pf6 - chn with more structure "
   ]
  },
  {
   "cell_type": "code",
   "execution_count": 342,
   "metadata": {},
   "outputs": [],
   "source": [
    "pf6_180_1_file = r'C:\\Users\\migue\\OneDrive\\Desktop\\QM_Project\\for_molecules\\pf6_chn_180\\pf6_centered_1.xyz'\n",
    "pf6_180_2_file = r'C:\\Users\\migue\\OneDrive\\Desktop\\QM_Project\\for_molecules\\pf6_chn_180\\pf6_centered_2.xyz'\n",
    "pf6_180_3_file = r'C:\\Users\\migue\\OneDrive\\Desktop\\QM_Project\\for_molecules\\pf6_chn_180\\pf6_centered_3.xyz'\n",
    "pf6_chn_configurations_180 = np.load(r'C:\\Users\\migue\\OneDrive\\Desktop\\QM_Project\\for_molecules\\pf6_chn_180\\chn_configurations_180.npy')"
   ]
  },
  {
   "cell_type": "code",
   "execution_count": 343,
   "metadata": {},
   "outputs": [
    {
     "name": "stdout",
     "output_type": "stream",
     "text": [
      "{'P', 'F'}\n",
      "['F', 'P']\n",
      "{'P', 'F'}\n",
      "['F', 'P']\n",
      "{'P', 'F'}\n",
      "['F', 'P']\n"
     ]
    }
   ],
   "source": [
    "pf6_origin_180_1 = MolBuckingham(pf6_180_1_file, pf6_charges)\n",
    "pf6_origin_180_2 = MolBuckingham(pf6_180_2_file, pf6_charges)\n",
    "pf6_origin_180_3 = MolBuckingham(pf6_180_3_file, pf6_charges)"
   ]
  },
  {
   "cell_type": "code",
   "execution_count": 344,
   "metadata": {},
   "outputs": [],
   "source": [
    "chn_to_pf6_180_set = []\n",
    "for i in range(len(pf6_chn_configurations_180)):\n",
    "    molecule = chn_origin.copy([0,0,0])\n",
    "    molecule.coordinates = pf6_chn_configurations_180[i]\n",
    "    chn_to_pf6_180_set.append(molecule)"
   ]
  },
  {
   "cell_type": "code",
   "execution_count": 345,
   "metadata": {},
   "outputs": [],
   "source": [
    "for i in range(len(chn_to_pf6_180_set)):\n",
    "    dimer = Dimer(pf6_origin_180_1, chn_to_pf6_180_set[i])\n",
    "    pf6_chn_dimer_set.append(dimer)\n",
    "\n",
    "for i in range(len(chn_to_pf6_180_set)):\n",
    "    dimer = Dimer(pf6_origin_180_2, chn_to_pf6_180_set[i])\n",
    "    pf6_chn_dimer_set.append(dimer)\n",
    "\n",
    "for i in range(len(chn_to_pf6_180_set)):\n",
    "    dimer = Dimer(pf6_origin_180_3, chn_to_pf6_180_set[i])\n",
    "    pf6_chn_dimer_set.append(dimer)"
   ]
  },
  {
   "cell_type": "code",
   "execution_count": 346,
   "metadata": {},
   "outputs": [
    {
     "data": {
      "image/png": "[encoded data removed]",
      "text/plain": [
       "<Figure size 1400x600 with 2 Axes>"
      ]
     },
     "metadata": {},
     "output_type": "display_data"
    }
   ],
   "source": [
    "energies_sapt2_pf6 = np.array(pf6_chn_total_energy)  # Lista de energías SAPT2 en kJ/mol\n",
    "pf6_total_energy_predicted = np.array([ dimer.total_energy() for dimer in pf6_chn_dimer_set])  # Lista de energías predichas en kJ/mol\n",
    "\n",
    "# Calcular las diferencias relativas\n",
    "relative_diffs = np.abs((pf6_total_energy_predicted - energies_sapt2_pf6) / energies_sapt2_pf6) * 100\n",
    "\n",
    "# Crear el gráfico de dispersión\n",
    "plt.figure(figsize=(14, 6))\n",
    "\n",
    "# Gráfico de dispersión de las energías\n",
    "plt.subplot(1, 2, 1)\n",
    "plt.scatter(energies_sapt2_pf6, pf6_total_energy_predicted, color='blue', alpha=0.7)\n",
    "plt.title('Energies Comparison SAPT2 vs Model for PF6')\n",
    "plt.xlabel('Energies SAPT2 (kJ/mol)')\n",
    "plt.ylabel('Energies Model (kJ/mol)')\n",
    "plt.xlim(-350, -140)  # Establecer límites en el eje x\n",
    "plt.ylim(-350, -140) # Establecer límites en el eje y\n",
    "\n",
    "# Gráfico de dispersión de las diferencias relativas\n",
    "plt.subplot(1, 2, 2)\n",
    "plt.scatter(range(len(relative_diffs)), relative_diffs, color='green', alpha=0.7)\n",
    "plt.title('Relative Differences SAPT2 vs Model for PF6')\n",
    "plt.xlabel('Configuration')\n",
    "plt.ylabel('Relative Difference (%)')\n",
    "plt.ylim(0, max(relative_diffs) * 1.1)  # Establecer límites en el eje y\n",
    "\n",
    "# Mostrar el gráfico\n",
    "plt.tight_layout()\n",
    "plt.show()"
   ]
  },
  {
   "cell_type": "code",
   "execution_count": 347,
   "metadata": {},
   "outputs": [
    {
     "data": {
      "image/png": "[encoded data removed]",
      "text/plain": [
       "<Figure size 1000x600 with 1 Axes>"
      ]
     },
     "metadata": {},
     "output_type": "display_data"
    }
   ],
   "source": [
    "# Crear el gráfico de dispersión\n",
    "plt.figure(figsize=(10, 6))\n",
    "\n",
    "# Graficar las energías SAPT2 (en azul)\n",
    "plt.scatter(range(len(energies_sapt2_pf6)), energies_sapt2_pf6, color='blue', label='SAPT2', alpha=0.7)\n",
    "\n",
    "# Graficar las energías predichas (en rojo)\n",
    "plt.scatter(range(len(pf6_total_energy_predicted)), pf6_total_energy_predicted, color='red', label='Predicted', alpha=0.7)\n",
    "\n",
    "# Añadir detalles al gráfico\n",
    "plt.title('Scatter Plot of SAPT2 vs Predicted Energies for PF6')\n",
    "plt.xlabel('Observations')\n",
    "plt.ylabel('Energies (kJ/mol)')\n",
    "plt.legend()  # Mostrar la leyenda con etiquetas de color\n",
    "\n",
    "# Mostrar el gráfico\n",
    "plt.tight_layout()\n",
    "plt.show()"
   ]
  },
  {
   "cell_type": "code",
   "execution_count": 350,
   "metadata": {},
   "outputs": [
    {
     "data": {
      "application/3dmoljs_load.v0": "<div id=\"3dmolviewer_17184607365702345\"  style=\"position: relative; width: 600px; height: 300px;\">\n        <p id=\"3dmolwarning_17184607365702345\" style=\"background-color:#ffcccc;color:black\">3Dmol.js failed to load for some reason.  Please check your browser console for error messages.<br></p>\n        </div>\n<script>\n\nvar loadScriptAsync = function(uri){\n  return new Promise((resolve, reject) => {\n    //this is to ignore the existence of requirejs amd\n    var savedexports, savedmodule;\n    if (typeof exports !== 'undefined') savedexports = exports;\n    else exports = {}\n    if (typeof module !== 'undefined') savedmodule = module;\n    else module = {}\n\n    var tag = document.createElement('script');\n    tag.src = uri;\n    tag.async = true;\n    tag.onload = () => {\n        exports = savedexports;\n        module = savedmodule;\n        resolve();\n    };\n  var firstScriptTag = document.getElementsByTagName('script')[0];\n  firstScriptTag.parentNode.insertBefore(tag, firstScriptTag);\n});\n};\n\nif(typeof $3Dmolpromise === 'undefined') {\n$3Dmolpromise = null;\n  $3Dmolpromise = loadScriptAsync('https://cdnjs.cloudflare.com/ajax/libs/3Dmol/2.1.0/3Dmol-min.js');\n}\n\nvar viewer_17184607365702345 = null;\nvar warn = document.getElementById(\"3dmolwarning_17184607365702345\");\nif(warn) {\n    warn.parentNode.removeChild(warn);\n}\n$3Dmolpromise.then(function() {\nviewer_17184607365702345 = $3Dmol.createViewer(document.getElementById(\"3dmolviewer_17184607365702345\"),{backgroundColor:\"white\"});\nviewer_17184607365702345.zoomTo();\n\tviewer_17184607365702345.addModel(\"29\\n\\nF -1.1240476 1.142383 0.00754909\\nF -1.1240476 -1.142383 0.00754909\\nF 0.0193009 0.0 -1.60255518\\nF 1.10770549 -1.131606 0.0055855\\nF 1.10770549 1.131606 0.0055855\\nF 0.01406523 0.0 1.59137022\\nP -0.00068191 0.0 -0.01508424\\nC 0.002498314481768328 -0.001442402538569441 4.230568197555601\\nC 1.269826841974429 0.7083470950529736 4.7707293490169675\\nC 0.02146684197442905 -1.4538758510837102 4.7707293490169675\\nC -1.2214562934282578 0.7052081198141671 6.286233948738332\\nC 1.237399598683017 0.7239628282481078 6.273077105453305\\nC -0.008270401316982978 -1.433600901216216 6.273077105453306\\nC -1.243354963317668 0.7178513227697128 4.799650845317571\\nH -0.004211800811507612 0.0024305296317588924 7.760909173106002\\nH -0.008791762566390082 0.005077081184894689 3.2305740210759444\\nH 2.079194261121891 0.23281403589084612 4.457528423203383\\nH 0.8379742611218909 -1.9170420674797966 4.457528423203384\\nH 1.3042821082357532 1.63697154804825 4.4275031570879655\\nH -0.7655178917642467 -1.9480272134578127 4.4275031570879655\\nH -2.054820039099344 0.25301800454367834 6.685173829864196\\nH -1.2465300390993441 1.6530173517935263 6.685173829864196\\nH 1.232153168413745 1.6583040284007586 6.59924838632692\\nH -0.8200568315862552 -1.896227959400168 6.599248386326921\\nH 2.045663061300093 0.27602939625712786 6.629889305899195\\nH 0.783783061300093 -1.9096108767978872 6.629889305899195\\nH -1.2736330059464434 1.7619997015157314 4.452604679661428\\nH -2.1627530059464433 0.22199868749009075 4.452604679661428\\nN -0.0048454837242258506 0.0027975413325359 6.760555341179829\\n\",\"xyz\");\n\tviewer_17184607365702345.addUnitCell();\n\tviewer_17184607365702345.setViewStyle({\"style\": \"outline\", \"width\": 0.05});\n\tviewer_17184607365702345.setStyle({\"stick\": {}, \"sphere\": {\"scale\": 0.25}});\n\tviewer_17184607365702345.zoomTo();\nviewer_17184607365702345.render();\n});\n</script>",
      "text/html": [
       "<div id=\"3dmolviewer_17184607365702345\"  style=\"position: relative; width: 600px; height: 300px;\">\n",
       "        <p id=\"3dmolwarning_17184607365702345\" style=\"background-color:#ffcccc;color:black\">3Dmol.js failed to load for some reason.  Please check your browser console for error messages.<br></p>\n",
       "        </div>\n",
       "<script>\n",
       "\n",
       "var loadScriptAsync = function(uri){\n",
       "  return new Promise((resolve, reject) => {\n",
       "    //this is to ignore the existence of requirejs amd\n",
       "    var savedexports, savedmodule;\n",
       "    if (typeof exports !== 'undefined') savedexports = exports;\n",
       "    else exports = {}\n",
       "    if (typeof module !== 'undefined') savedmodule = module;\n",
       "    else module = {}\n",
       "\n",
       "    var tag = document.createElement('script');\n",
       "    tag.src = uri;\n",
       "    tag.async = true;\n",
       "    tag.onload = () => {\n",
       "        exports = savedexports;\n",
       "        module = savedmodule;\n",
       "        resolve();\n",
       "    };\n",
       "  var firstScriptTag = document.getElementsByTagName('script')[0];\n",
       "  firstScriptTag.parentNode.insertBefore(tag, firstScriptTag);\n",
       "});\n",
       "};\n",
       "\n",
       "if(typeof $3Dmolpromise === 'undefined') {\n",
       "$3Dmolpromise = null;\n",
       "  $3Dmolpromise = loadScriptAsync('https://cdnjs.cloudflare.com/ajax/libs/3Dmol/2.1.0/3Dmol-min.js');\n",
       "}\n",
       "\n",
       "var viewer_17184607365702345 = null;\n",
       "var warn = document.getElementById(\"3dmolwarning_17184607365702345\");\n",
       "if(warn) {\n",
       "    warn.parentNode.removeChild(warn);\n",
       "}\n",
       "$3Dmolpromise.then(function() {\n",
       "viewer_17184607365702345 = $3Dmol.createViewer(document.getElementById(\"3dmolviewer_17184607365702345\"),{backgroundColor:\"white\"});\n",
       "viewer_17184607365702345.zoomTo();\n",
       "\tviewer_17184607365702345.addModel(\"29\\n\\nF -1.1240476 1.142383 0.00754909\\nF -1.1240476 -1.142383 0.00754909\\nF 0.0193009 0.0 -1.60255518\\nF 1.10770549 -1.131606 0.0055855\\nF 1.10770549 1.131606 0.0055855\\nF 0.01406523 0.0 1.59137022\\nP -0.00068191 0.0 -0.01508424\\nC 0.002498314481768328 -0.001442402538569441 4.230568197555601\\nC 1.269826841974429 0.7083470950529736 4.7707293490169675\\nC 0.02146684197442905 -1.4538758510837102 4.7707293490169675\\nC -1.2214562934282578 0.7052081198141671 6.286233948738332\\nC 1.237399598683017 0.7239628282481078 6.273077105453305\\nC -0.008270401316982978 -1.433600901216216 6.273077105453306\\nC -1.243354963317668 0.7178513227697128 4.799650845317571\\nH -0.004211800811507612 0.0024305296317588924 7.760909173106002\\nH -0.008791762566390082 0.005077081184894689 3.2305740210759444\\nH 2.079194261121891 0.23281403589084612 4.457528423203383\\nH 0.8379742611218909 -1.9170420674797966 4.457528423203384\\nH 1.3042821082357532 1.63697154804825 4.4275031570879655\\nH -0.7655178917642467 -1.9480272134578127 4.4275031570879655\\nH -2.054820039099344 0.25301800454367834 6.685173829864196\\nH -1.2465300390993441 1.6530173517935263 6.685173829864196\\nH 1.232153168413745 1.6583040284007586 6.59924838632692\\nH -0.8200568315862552 -1.896227959400168 6.599248386326921\\nH 2.045663061300093 0.27602939625712786 6.629889305899195\\nH 0.783783061300093 -1.9096108767978872 6.629889305899195\\nH -1.2736330059464434 1.7619997015157314 4.452604679661428\\nH -2.1627530059464433 0.22199868749009075 4.452604679661428\\nN -0.0048454837242258506 0.0027975413325359 6.760555341179829\\n\",\"xyz\");\n",
       "\tviewer_17184607365702345.addUnitCell();\n",
       "\tviewer_17184607365702345.setViewStyle({\"style\": \"outline\", \"width\": 0.05});\n",
       "\tviewer_17184607365702345.setStyle({\"stick\": {}, \"sphere\": {\"scale\": 0.25}});\n",
       "\tviewer_17184607365702345.zoomTo();\n",
       "viewer_17184607365702345.render();\n",
       "});\n",
       "</script>"
      ]
     },
     "metadata": {},
     "output_type": "display_data"
    },
    {
     "name": "stdout",
     "output_type": "stream",
     "text": [
      "calculated energy: -215.2456696468381 \n",
      "SAPT2 energy: -223.353657573604\n",
      "relative difference: 3.6301120003347127 % \n"
     ]
    }
   ],
   "source": [
    "instance = 98\n",
    "pf6_chn_dimer_set[instance].visual()\n",
    "print(f'SAPT2 energy: {pf6_chn_total_energy[instance]}')\n",
    "relative_diff = abs((pf6_chn_total_energy[instance] - pf6_chn_dimer_set[instance].total_energy())/pf6_chn_total_energy[instance])*100\n",
    "print(f'relative difference: {relative_diff} % ')"
   ]
  },
  {
   "cell_type": "code",
   "execution_count": 315,
   "metadata": {},
   "outputs": [],
   "source": [
    "#################################\n",
    "#################################\n",
    "#### Optimization pf6_chn #######\n",
    "#################################\n",
    "################################"
   ]
  },
  {
   "cell_type": "code",
   "execution_count": 324,
   "metadata": {},
   "outputs": [
    {
     "data": {
      "text/plain": [
       "['F', 'P', 'C(4)', 'H(4)', 'H(1)', 'N(3)']"
      ]
     },
     "execution_count": 324,
     "metadata": {},
     "output_type": "execute_result"
    }
   ],
   "source": [
    "pf6_chn_dimer_set[0].dimer_order_types ## order for the vector"
   ]
  },
  {
   "cell_type": "code",
   "execution_count": 325,
   "metadata": {},
   "outputs": [
    {
     "data": {
      "text/plain": [
       "{'H(1)': {'A': 278.37, 'B': 12680, 'C': 3.56},\n",
       " 'H(4)': {'A': 0.0, 'B': 764.9, 'C': 3.56},\n",
       " 'C(4)': {'A': 978.36, 'B': 131571, 'C': 3.6},\n",
       " 'N(3)': {'A': 2376.55, 'B': 191935, 'C': 3.48},\n",
       " 'P': {'A': 95491.66099275, 'B': 252780.774, 'C': 4.09048675},\n",
       " 'F': {'A': 572.5393297, 'B': 236361.448, 'C': 4.01416701}}"
      ]
     },
     "execution_count": 325,
     "metadata": {},
     "output_type": "execute_result"
    }
   ],
   "source": [
    "pf6_chn_dimer_set[0].dimer_buckingham_params"
   ]
  },
  {
   "cell_type": "code",
   "execution_count": 326,
   "metadata": {},
   "outputs": [
    {
     "data": {
      "text/plain": [
       "[572.5393297,\n",
       " 95491.66099275,\n",
       " 978.36,\n",
       " 0.0,\n",
       " 278.37,\n",
       " 2376.55,\n",
       " 236361.448,\n",
       " 252780.774,\n",
       " 131571,\n",
       " 764.9,\n",
       " 12680,\n",
       " 191935,\n",
       " 4.01416701,\n",
       " 4.09048675,\n",
       " 3.6,\n",
       " 3.56,\n",
       " 3.56,\n",
       " 3.48]"
      ]
     },
     "execution_count": 326,
     "metadata": {},
     "output_type": "execute_result"
    }
   ],
   "source": [
    "original_buckingham_parameters_vector = []\n",
    "\n",
    "for type in pf6_chn_dimer_set[0].dimer_order_types:\n",
    "    original_buckingham_parameters_vector.append(pf6_chn_dimer_set[0].dimer_buckingham_params[type]['A'])\n",
    "\n",
    "for type in pf6_chn_dimer_set[0].dimer_order_types:\n",
    "    original_buckingham_parameters_vector.append(pf6_chn_dimer_set[0].dimer_buckingham_params[type]['B'])\n",
    "    \n",
    "for type in pf6_chn_dimer_set[0].dimer_order_types:\n",
    "    original_buckingham_parameters_vector.append(pf6_chn_dimer_set[0].dimer_buckingham_params[type]['C'])\n",
    "\n",
    "original_buckingham_parameters_vector"
   ]
  },
  {
   "cell_type": "code",
   "execution_count": 327,
   "metadata": {},
   "outputs": [
    {
     "name": "stderr",
     "output_type": "stream",
     "text": [
      "C:\\Users\\migue\\AppData\\Local\\Temp\\ipykernel_15392\\736914737.py:61: RuntimeWarning: invalid value encountered in sqrt\n",
      "  v_12a = (np.outer(np.array(vector_mol1_a), np.array(vector_mol2_a)).flatten())**(0.5)\n"
     ]
    },
    {
     "name": "stdout",
     "output_type": "stream",
     "text": [
      "Punto óptimo: [6.28967411e+02 9.81450011e+04 1.07531447e+03 1.28744454e-04\n",
      " 2.50547082e+02 2.21859997e+03 2.18011845e+05 2.62227465e+05\n",
      " 1.25229826e+05 7.57354058e+02 1.17402788e+04 1.82190172e+05\n",
      " 4.41439140e+00 3.68175431e+00 3.88938850e+00 3.73860465e+00\n",
      " 3.91599996e+00 3.18318908e+00]\n",
      "Valor de la función en el punto óptimo: 1767.1444550677124\n",
      "Información completa del resultado:\n",
      "        message: Maximum number of function evaluations has been exceeded.\n",
      "       success: False\n",
      "        status: 1\n",
      "           fun: 1767.1444550677124\n",
      "             x: [ 6.290e+02  9.815e+04 ...  3.916e+00  3.183e+00]\n",
      "           nit: 2443\n",
      "          nfev: 3600\n",
      " final_simplex: (array([[ 6.290e+02,  9.815e+04, ...,  3.916e+00,\n",
      "                         3.183e+00],\n",
      "                       [ 6.290e+02,  9.814e+04, ...,  3.916e+00,\n",
      "                         3.183e+00],\n",
      "                       ...,\n",
      "                       [ 6.290e+02,  9.814e+04, ...,  3.916e+00,\n",
      "                         3.183e+00],\n",
      "                       [ 6.290e+02,  9.814e+04, ...,  3.916e+00,\n",
      "                         3.183e+00]]), array([ 1.767e+03,  1.767e+03, ...,  1.767e+03,  1.767e+03]))\n"
     ]
    }
   ],
   "source": [
    "pf6_chn_optimize = EnergyOptimize(pf6_chn_dimer_set, pf6_chn_total_energy)\n",
    "\n",
    "# Definir el punto inicial para la optimización\n",
    "x0 = np.array(original_buckingham_parameters_vector)\n",
    "\n",
    "# Realizar la minimización usando el método Nelder-Mead\n",
    "result = minimize(pf6_chn_optimize.dimer_set_optimize_total, x0, method='Nelder-Mead')\n",
    "\n",
    "# Imprimir el resultado\n",
    "print(\"Punto óptimo:\", result.x)\n",
    "print(\"Valor de la función en el punto óptimo:\", result.fun)\n",
    "print(\"Información completa del resultado:\\n\", result)\n"
   ]
  },
  {
   "cell_type": "markdown",
   "metadata": {},
   "source": [
    "## PF6-PF6"
   ]
  },
  {
   "cell_type": "code",
   "execution_count": 229,
   "metadata": {},
   "outputs": [],
   "source": [
    "pf6_to_pf6_origin_file = r'C:\\Users\\migue\\OneDrive\\Desktop\\QM_Project\\for_molecules\\pf6_chn_sphere\\PF6_centered.xyz'\n",
    "pf6_pf6_1_energies = np.load(r'C:\\Users\\migue\\OneDrive\\Desktop\\QM_Project\\for_molecules\\pf6_pf6\\pf6_pf6_1_energies.npy')\n",
    "pf6_pf6_1_induction_energies = np.load(r'C:\\Users\\migue\\OneDrive\\Desktop\\QM_Project\\for_molecules\\pf6_pf6\\pf6_pf6_1_induction_energies.npy')\n",
    "pf6_pf6_1_configurations = np.load(r'C:\\Users\\migue\\OneDrive\\Desktop\\QM_Project\\for_molecules\\pf6_pf6\\pf6_pf6_1_configurations.npy')"
   ]
  },
  {
   "cell_type": "markdown",
   "metadata": {},
   "source": [
    "#### First batch pf6, to get initial values for a b c "
   ]
  },
  {
   "cell_type": "code",
   "execution_count": 274,
   "metadata": {},
   "outputs": [
    {
     "name": "stdout",
     "output_type": "stream",
     "text": [
      "{'P', 'F'}\n",
      "['F', 'P']\n"
     ]
    }
   ],
   "source": [
    "pf6_to_pf6_origin = MolBuckingham(pf6_to_pf6_origin_file, pf6_charges)\n",
    "\n",
    "pf6_pf6_1_dimer_set = []\n",
    "\n",
    "for coordinates in pf6_pf6_1_configurations : \n",
    "    molecule =  pf6_to_pf6_origin.copy([0,0,0])\n",
    "    molecule.coordinates = coordinates\n",
    "    dimer = Dimer(pf6_to_pf6_origin, molecule)\n",
    "    pf6_pf6_1_dimer_set.append(dimer)\n"
   ]
  },
  {
   "cell_type": "code",
   "execution_count": 313,
   "metadata": {},
   "outputs": [
    {
     "data": {
      "application/3dmoljs_load.v0": "<div id=\"3dmolviewer_17183771474384773\"  style=\"position: relative; width: 600px; height: 300px;\">\n        <p id=\"3dmolwarning_17183771474384773\" style=\"background-color:#ffcccc;color:black\">3Dmol.js failed to load for some reason.  Please check your browser console for error messages.<br></p>\n        </div>\n<script>\n\nvar loadScriptAsync = function(uri){\n  return new Promise((resolve, reject) => {\n    //this is to ignore the existence of requirejs amd\n    var savedexports, savedmodule;\n    if (typeof exports !== 'undefined') savedexports = exports;\n    else exports = {}\n    if (typeof module !== 'undefined') savedmodule = module;\n    else module = {}\n\n    var tag = document.createElement('script');\n    tag.src = uri;\n    tag.async = true;\n    tag.onload = () => {\n        exports = savedexports;\n        module = savedmodule;\n        resolve();\n    };\n  var firstScriptTag = document.getElementsByTagName('script')[0];\n  firstScriptTag.parentNode.insertBefore(tag, firstScriptTag);\n});\n};\n\nif(typeof $3Dmolpromise === 'undefined') {\n$3Dmolpromise = null;\n  $3Dmolpromise = loadScriptAsync('https://cdnjs.cloudflare.com/ajax/libs/3Dmol/2.1.0/3Dmol-min.js');\n}\n\nvar viewer_17183771474384773 = null;\nvar warn = document.getElementById(\"3dmolwarning_17183771474384773\");\nif(warn) {\n    warn.parentNode.removeChild(warn);\n}\n$3Dmolpromise.then(function() {\nviewer_17183771474384773 = $3Dmol.createViewer(document.getElementById(\"3dmolviewer_17183771474384773\"),{backgroundColor:\"white\"});\nviewer_17183771474384773.zoomTo();\n\tviewer_17183771474384773.addModel(\"14\\n\\nF -0.287885 1.142383 1.086087\\nF -0.287885 -1.142383 1.086087\\nF -1.520467 0.0 -0.456775\\nF 0.325382 -1.131606 -1.059753\\nF 0.325382 1.131606 -1.059753\\nF 1.548288 0.0 0.428623\\nP 0.0 0.0 0.0\\nF -0.287885 1.142383 4.9860869999999995\\nF -0.287885 -1.142383 4.9860869999999995\\nF -1.520467 0.0 3.443225\\nF 0.325382 -1.131606 2.8402469999999997\\nF 0.325382 1.131606 2.8402469999999997\\nF 1.548288 0.0 4.328623\\nP 0.0 0.0 3.9\\n\",\"xyz\");\n\tviewer_17183771474384773.addUnitCell();\n\tviewer_17183771474384773.setViewStyle({\"style\": \"outline\", \"width\": 0.05});\n\tviewer_17183771474384773.setStyle({\"stick\": {}, \"sphere\": {\"scale\": 0.25}});\n\tviewer_17183771474384773.zoomTo();\nviewer_17183771474384773.render();\n});\n</script>",
      "text/html": [
       "<div id=\"3dmolviewer_17183771474384773\"  style=\"position: relative; width: 600px; height: 300px;\">\n",
       "        <p id=\"3dmolwarning_17183771474384773\" style=\"background-color:#ffcccc;color:black\">3Dmol.js failed to load for some reason.  Please check your browser console for error messages.<br></p>\n",
       "        </div>\n",
       "<script>\n",
       "\n",
       "var loadScriptAsync = function(uri){\n",
       "  return new Promise((resolve, reject) => {\n",
       "    //this is to ignore the existence of requirejs amd\n",
       "    var savedexports, savedmodule;\n",
       "    if (typeof exports !== 'undefined') savedexports = exports;\n",
       "    else exports = {}\n",
       "    if (typeof module !== 'undefined') savedmodule = module;\n",
       "    else module = {}\n",
       "\n",
       "    var tag = document.createElement('script');\n",
       "    tag.src = uri;\n",
       "    tag.async = true;\n",
       "    tag.onload = () => {\n",
       "        exports = savedexports;\n",
       "        module = savedmodule;\n",
       "        resolve();\n",
       "    };\n",
       "  var firstScriptTag = document.getElementsByTagName('script')[0];\n",
       "  firstScriptTag.parentNode.insertBefore(tag, firstScriptTag);\n",
       "});\n",
       "};\n",
       "\n",
       "if(typeof $3Dmolpromise === 'undefined') {\n",
       "$3Dmolpromise = null;\n",
       "  $3Dmolpromise = loadScriptAsync('https://cdnjs.cloudflare.com/ajax/libs/3Dmol/2.1.0/3Dmol-min.js');\n",
       "}\n",
       "\n",
       "var viewer_17183771474384773 = null;\n",
       "var warn = document.getElementById(\"3dmolwarning_17183771474384773\");\n",
       "if(warn) {\n",
       "    warn.parentNode.removeChild(warn);\n",
       "}\n",
       "$3Dmolpromise.then(function() {\n",
       "viewer_17183771474384773 = $3Dmol.createViewer(document.getElementById(\"3dmolviewer_17183771474384773\"),{backgroundColor:\"white\"});\n",
       "viewer_17183771474384773.zoomTo();\n",
       "\tviewer_17183771474384773.addModel(\"14\\n\\nF -0.287885 1.142383 1.086087\\nF -0.287885 -1.142383 1.086087\\nF -1.520467 0.0 -0.456775\\nF 0.325382 -1.131606 -1.059753\\nF 0.325382 1.131606 -1.059753\\nF 1.548288 0.0 0.428623\\nP 0.0 0.0 0.0\\nF -0.287885 1.142383 4.9860869999999995\\nF -0.287885 -1.142383 4.9860869999999995\\nF -1.520467 0.0 3.443225\\nF 0.325382 -1.131606 2.8402469999999997\\nF 0.325382 1.131606 2.8402469999999997\\nF 1.548288 0.0 4.328623\\nP 0.0 0.0 3.9\\n\",\"xyz\");\n",
       "\tviewer_17183771474384773.addUnitCell();\n",
       "\tviewer_17183771474384773.setViewStyle({\"style\": \"outline\", \"width\": 0.05});\n",
       "\tviewer_17183771474384773.setStyle({\"stick\": {}, \"sphere\": {\"scale\": 0.25}});\n",
       "\tviewer_17183771474384773.zoomTo();\n",
       "viewer_17183771474384773.render();\n",
       "});\n",
       "</script>"
      ]
     },
     "metadata": {},
     "output_type": "display_data"
    },
    {
     "name": "stdout",
     "output_type": "stream",
     "text": [
      "calculated energy: 540.740027468596 \n",
      "sapt2 energy is: 542.244515\n"
     ]
    }
   ],
   "source": [
    "observation = 6\n",
    "\n",
    "pf6_pf6_1_dimer_set[observation].visual() # el 4 es el bueno este que se ve es el 3 y se pega.\n",
    "print(f'sapt2 energy is: {pf6_pf6_1_energies[observation]}')"
   ]
  },
  {
   "cell_type": "code",
   "execution_count": null,
   "metadata": {},
   "outputs": [],
   "source": [
    "###########################\n",
    "###########################\n",
    "###  Done for dispersion ##\n",
    "###########################\n",
    "###########################"
   ]
  },
  {
   "cell_type": "code",
   "execution_count": 251,
   "metadata": {},
   "outputs": [],
   "source": [
    "pf6_pf6_1_optimize = EnergyOptimize(pf6_pf6_1_dimer_set[5:], pf6_pf6_1_energies[5:], pf6_pf6_1_induction_energies[5:])"
   ]
  },
  {
   "cell_type": "code",
   "execution_count": null,
   "metadata": {},
   "outputs": [],
   "source": [
    "# alston values:     cpp = 30.61343 hartree*bohr**6 --> cpp * bohr_6_to_angstrom_6 * hartree_to_kJ/mol \n",
    "#                    cff = 11.50171 hartree*bohr**6 --> cpp * bohr_6_to_angstrom_6 * hartree_to_kJ/mol"
   ]
  },
  {
   "cell_type": "code",
   "execution_count": 255,
   "metadata": {},
   "outputs": [
    {
     "name": "stdout",
     "output_type": "stream",
     "text": [
      "663.1000848903531 1764.9347820267492\n"
     ]
    }
   ],
   "source": [
    "f_a = 11.50171 * hartree_to_kJ * bohr_6_to_angstrom_6 \n",
    "p_a = 30.61343 * hartree_to_kJ * bohr_6_to_angstrom_6 \n",
    "\n",
    "print(f_a,p_a)"
   ]
  },
  {
   "cell_type": "code",
   "execution_count": 254,
   "metadata": {},
   "outputs": [
    {
     "name": "stdout",
     "output_type": "stream",
     "text": [
      "Punto óptimo: [  572.5393297  95491.66099275]\n",
      "Valor de la función en el punto óptimo: 16.023642254083615\n",
      "Información completa del resultado:\n",
      "        message: Optimization terminated successfully.\n",
      "       success: True\n",
      "        status: 0\n",
      "           fun: 16.023642254083615\n",
      "             x: [ 5.725e+02  9.549e+04]\n",
      "           nit: 100\n",
      "          nfev: 197\n",
      " final_simplex: (array([[ 5.725e+02,  9.549e+04],\n",
      "                       [ 5.725e+02,  9.549e+04],\n",
      "                       [ 5.725e+02,  9.549e+04]]), array([ 1.602e+01,  1.602e+01,  1.602e+01]))\n"
     ]
    }
   ],
   "source": [
    "# Definir el punto inicial para la optimización\n",
    "x0 = np.array([f_a, p_a])\n",
    "\n",
    "# Realizar la minimización usando el método Nelder-Mead\n",
    "result = minimize(pf6_pf6_1_optimize.dimer_set_optimize_disp, x0, method='Nelder-Mead')\n",
    "\n",
    "# Imprimir el resultado\n",
    "print(\"Punto óptimo:\", result.x)\n",
    "print(\"Valor de la función en el punto óptimo:\", result.fun)\n",
    "print(\"Información completa del resultado:\\n\", result)"
   ]
  },
  {
   "cell_type": "code",
   "execution_count": null,
   "metadata": {},
   "outputs": [],
   "source": [
    "##########################\n",
    "# #######################\n",
    "# Finish dispersion #####\n",
    "## Optimization##########\n",
    "#########################"
   ]
  },
  {
   "cell_type": "code",
   "execution_count": null,
   "metadata": {},
   "outputs": [],
   "source": [
    "###########################\n",
    "##### exp part optimi #####\n",
    "###########################"
   ]
  },
  {
   "cell_type": "code",
   "execution_count": 260,
   "metadata": {},
   "outputs": [],
   "source": [
    "pf6_pf6_1_exp_energy = pf6_pf6_1_energies - pf6_pf6_1_induction_energies - np.array([dimer.elst_energy() for dimer in pf6_pf6_1_dimer_set ])"
   ]
  },
  {
   "cell_type": "code",
   "execution_count": 271,
   "metadata": {},
   "outputs": [],
   "source": [
    "pf6_pf6_1_optimize = EnergyOptimize(pf6_pf6_1_dimer_set[5:], pf6_pf6_1_energies[5:], pf6_pf6_1_induction_energies[5:], pf6_pf6_1_exp_energy[5:])"
   ]
  },
  {
   "cell_type": "code",
   "execution_count": 272,
   "metadata": {},
   "outputs": [
    {
     "name": "stdout",
     "output_type": "stream",
     "text": [
      "Punto óptimo: [2.36361448e+05 2.52780774e+05 4.01416701e+00 4.09048675e+00]\n",
      "Valor de la función en el punto óptimo: 57.48518274769543\n",
      "Información completa del resultado:\n",
      "        message: Maximum number of function evaluations has been exceeded.\n",
      "       success: False\n",
      "        status: 1\n",
      "           fun: 57.48518274769543\n",
      "             x: [ 2.364e+05  2.528e+05  4.014e+00  4.090e+00]\n",
      "           nit: 474\n",
      "          nfev: 800\n",
      " final_simplex: (array([[ 2.364e+05,  2.528e+05,  4.014e+00,  4.090e+00],\n",
      "                       [ 2.363e+05,  2.543e+05,  4.014e+00,  4.083e+00],\n",
      "                       ...,\n",
      "                       [ 2.365e+05,  2.341e+05,  4.014e+00,  4.097e+00],\n",
      "                       [ 2.365e+05,  2.403e+05,  4.014e+00,  4.090e+00]]), array([ 5.749e+01,  5.749e+01,  5.749e+01,  5.749e+01,\n",
      "                        5.749e+01]))\n"
     ]
    }
   ],
   "source": [
    "# no initial vector??? , no data \n",
    "# (F_b, P_b , F_c, P_c)\n",
    "x0 = np.array([190000,190000,3.48,3.48])\n",
    "\n",
    "# Realizar la minimización usando el método Nelder-Mead\n",
    "result = minimize(pf6_pf6_1_optimize.dimer_set_optimize_exp,x0, method='Nelder-Mead')\n",
    "\n",
    "# Imprimir el resultado\n",
    "print(\"Punto óptimo:\", result.x)\n",
    "print(\"Valor de la función en el punto óptimo:\", result.fun)\n",
    "print(\"Información completa del resultado:\\n\", result)"
   ]
  },
  {
   "cell_type": "code",
   "execution_count": null,
   "metadata": {},
   "outputs": [],
   "source": [
    "###########################\n",
    "#####  Finish      ########\n",
    "##### exp part optimi #####\n",
    "###########################"
   ]
  },
  {
   "cell_type": "code",
   "execution_count": null,
   "metadata": {},
   "outputs": [],
   "source": [
    "#######################################################################################\n",
    "#######################################################################################\n",
    "#######################################################################################"
   ]
  },
  {
   "cell_type": "markdown",
   "metadata": {},
   "source": [
    "| Data                      | Units      | Converted to  | How          |\n",
    "|-----------                |----------- |-----------    |-----------   |\n",
    "|C6 coefficients PF6 (A)    | ht*bohr**6 |       kJ/mol*angstrom**6        |    2625.5*0.0219586          |\n",
    "|Charges [PF6 and Quin]     |     e      |               |              |\n",
    "|Williams parameters (A,B,C)|   kJ/mol   |  -- (same)              |  --            |\n",
    "|Psi4 energy                |    hartree default    |    kJ/mol           |   * 2625.5           |\n",
    "|xyz file length            | Angstroms  |   -- same            |   --           |\n",
    "|pdb file coordinates len   | Angstroms  |               |              |\n",
    "|psi4 expected - [in code]  | Angstroms  | nm for openmm |writed in code|\n",
    "|OpenMM expected units      |nm,kJ,mol,Da|     -         |              |\n",
    "|OpenMM expected units pdb  | Angstrom   |               |              |\n"
   ]
  }
 ],
 "metadata": {
  "kernelspec": {
   "display_name": "psi4",
   "language": "python",
   "name": "python3"
  },
  "language_info": {
   "codemirror_mode": {
    "name": "ipython",
    "version": 3
   },
   "file_extension": ".py",
   "mimetype": "text/x-python",
   "name": "python",
   "nbconvert_exporter": "python",
   "pygments_lexer": "ipython3",
   "version": "3.11.7"
  }
 },
 "nbformat": 4,
 "nbformat_minor": 2
}

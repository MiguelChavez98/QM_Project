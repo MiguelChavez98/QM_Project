{
 "cells": [
  {
   "cell_type": "code",
   "execution_count": 14,
   "metadata": {},
   "outputs": [],
   "source": [
    "def edit_pdb_file(filename, start_line, final_line):\n",
    "    # Abrir y leer el contenido del archivo\n",
    "    with open(filename, 'r') as file:\n",
    "        lines = file.readlines()\n",
    "\n",
    "    # Definir las letras a usar\n",
    "    letters = ['A', 'B', 'C', 'D', 'E', 'F', 'G', 'H']\n",
    "\n",
    "    # Variables para rastrear el ciclo actual y el índice de la letra\n",
    "    cycle_count = 0\n",
    "    letter_index = 0\n",
    "\n",
    "    # Modificar las líneas específicas a partir de start_line\n",
    "    for i in range(start_line, final_line):\n",
    "        line = lines[i]\n",
    "        if line.startswith(\"HETATM\"):\n",
    "            # Obtener el índice de la letra actual\n",
    "            letter = letters[letter_index]\n",
    "\n",
    "            # Reemplazar la letra después de \"QUI\"\n",
    "            # Mantener los espacios correctos del formato PDB\n",
    "            new_line = line[:17] + f\"FP6 {letter}\" + line[22:]\n",
    "            lines[i] = new_line\n",
    "\n",
    "            # Incrementar el contador de ciclo y cambiar la letra si es necesario\n",
    "            cycle_count += 1\n",
    "            if cycle_count == 28:\n",
    "                cycle_count = 0\n",
    "                # Cambiar a la siguiente letra en la lista cíclicamente\n",
    "                letter_index = (letter_index + 1) % len(letters)\n",
    "\n",
    "    # Guardar los cambios en el archivo\n",
    "    with open(filename, 'w') as file:\n",
    "        file.writelines(lines)\n",
    "\n",
    "\n"
   ]
  },
  {
   "cell_type": "code",
   "execution_count": 15,
   "metadata": {},
   "outputs": [],
   "source": [
    "# Ejemplo de uso\n",
    "edit_pdb_file(r\"C:\\Users\\migue\\Downloads\\X2-V2-withnames.pdb\", 710, 934)  # Comienza desde la línea 5"
   ]
  },
  {
   "cell_type": "code",
   "execution_count": 9,
   "metadata": {},
   "outputs": [
    {
     "name": "stdout",
     "output_type": "stream",
     "text": [
      "Extracción completada. Datos guardados en C:\\Users\\migue\\Downloads\\X2-V2-names.pdb\n"
     ]
    }
   ],
   "source": [
    "def extract_columns(input_file, output_file, columns):\n",
    "    \"\"\"\n",
    "    Extrae columnas específicas de un archivo PDB y las guarda en un nuevo archivo.\n",
    "    \n",
    "    :param input_file: Nombre del archivo PDB de entrada.\n",
    "    :param output_file: Nombre del archivo PDB de salida.\n",
    "    :param columns: Lista de tuplas con el inicio y fin de las columnas a extraer.\n",
    "    \"\"\"\n",
    "    with open(input_file, 'r') as file:\n",
    "        lines = file.readlines()\n",
    "\n",
    "    extracted_lines = []\n",
    "    \n",
    "    for line in lines:\n",
    "        if line.startswith(\"HETATM\"):\n",
    "            extracted_line = ''.join([line[start:end] for start, end in columns])\n",
    "            extracted_lines.append(extracted_line)\n",
    "\n",
    "    with open(output_file, 'w') as file:\n",
    "        file.writelines(extracted_lines)\n",
    "\n",
    "# Define las columnas que deseas extraer (inicio y fin de las columnas)\n",
    "columns = [\n",
    "    (12, 16), # Nombre del átomo\n",
    "]\n",
    "\n",
    "# Nombres de archivo\n",
    "input_file = r\"C:\\Users\\migue\\Downloads\\X2-original 1x1.pdb\"\n",
    "output_file = r\"C:\\Users\\migue\\Downloads\\X2-V2-names.pdb\"\n",
    "\n",
    "# Extrae las columnas\n",
    "extract_columns(input_file, output_file, columns)\n",
    "\n",
    "print(\"Extracción completada. Datos guardados en\", output_file)\n"
   ]
  },
  {
   "cell_type": "code",
   "execution_count": 13,
   "metadata": {},
   "outputs": [],
   "source": [
    "def read_names_list(names_file_path):\n",
    "    with open(names_file_path, 'r') as file:\n",
    "        names_line = file.readline().strip()\n",
    "    return names_line.split()\n",
    "\n",
    "def read_pdb_file(pdb_file_path):\n",
    "    with open(pdb_file_path, 'r') as file:\n",
    "        return file.readlines()\n",
    "\n",
    "def replace_atom_names(pdb_lines, names_list, start_line, end_line):\n",
    "    name_index = 0\n",
    "    for i in range(start_line, min(end_line, len(pdb_lines))):\n",
    "        if pdb_lines[i].startswith('HETATM'):\n",
    "            line = pdb_lines[i]\n",
    "            new_name = names_list[name_index]\n",
    "            # Maintain fixed width format using f-string\n",
    "            new_line = f\"{line[:12]} {new_name:<3}{line[16:]}\"\n",
    "            pdb_lines[i] = new_line\n",
    "            name_index = (name_index + 1) % len(names_list)\n",
    "    return pdb_lines\n",
    "\n",
    "def write_modified_pdb(new_pdb_file_path, modified_pdb_lines):\n",
    "    with open(new_pdb_file_path, 'w') as file:\n",
    "        file.writelines(modified_pdb_lines)\n",
    "\n",
    "def main(names_file_path, pdb_file_path, new_pdb_file_path, start_line, end_line):\n",
    "    names_list = read_names_list(names_file_path)\n",
    "    pdb_lines = read_pdb_file(pdb_file_path)\n",
    "    modified_pdb_lines = replace_atom_names(pdb_lines, names_list, start_line, end_line)\n",
    "    write_modified_pdb(new_pdb_file_path, modified_pdb_lines)\n",
    "\n",
    "# Example usage\n",
    "names_file_path = r\"C:\\Users\\migue\\Downloads\\names-f.pdb\"\n",
    "pdb_file_path = r\"C:\\Users\\migue\\Downloads\\X2-V2-withnames.pdb\"\n",
    "new_pdb_file_path = r\"C:\\Users\\migue\\Downloads\\X2-V2-withnames.pdb\"\n",
    "start_line = 710  # line number to start replacing names (0-indexed)\n",
    "end_line = 934  # line number to stop replacing names (exclusive)\n",
    "\n",
    "main(names_file_path, pdb_file_path, new_pdb_file_path, start_line, end_line)\n"
   ]
  }
 ],
 "metadata": {
  "kernelspec": {
   "display_name": "psi4",
   "language": "python",
   "name": "python3"
  },
  "language_info": {
   "codemirror_mode": {
    "name": "ipython",
    "version": 3
   },
   "file_extension": ".py",
   "mimetype": "text/x-python",
   "name": "python",
   "nbconvert_exporter": "python",
   "pygments_lexer": "ipython3",
   "version": "3.11.7"
  }
 },
 "nbformat": 4,
 "nbformat_minor": 2
}
